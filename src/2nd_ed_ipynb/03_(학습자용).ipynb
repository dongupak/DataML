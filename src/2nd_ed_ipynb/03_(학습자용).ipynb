{
 "cells": [
  {
   "cell_type": "markdown",
   "metadata": {
    "id": "Zyyy_4vT_cP0"
   },
   "source": [
    "# **생능 출판사 \"으뜸 데이터 분석과 머신러닝\"(개정판) 교재의 소스 코드**\n",
    "## *3장 파이썬 최고의 라이브러리 : 넘파이*\n",
    "---\n",
    "* 출판사 : 생능 출판사( http://www.booksr.co.kr/ )\n",
    "* 저자 : 박동규, 강영민, 김병욱\n",
    "* 책의 소스코드 저장소 : https://github.com/dongupak/DataML\n",
    "* 안내 : 이 노트북은 책의 코드를 담고 있습니다.\n",
    "*  저작권 : 본 주피터 노트북 코드는 자유롭게 배포가능하지만 위의 출판사, 저서, 저자표기와 함께 배포해 주십시오."
   ]
  },
  {
   "cell_type": "markdown",
   "metadata": {
    "id": "nCdbSDN4EOMf"
   },
   "source": [
    "### 3.1 파이썬 리스트와 넘파이"
   ]
  },
  {
   "cell_type": "code",
   "execution_count": 88,
   "metadata": {
    "colab": {
     "base_uri": "https://localhost:8080/"
    },
    "executionInfo": {
     "elapsed": 6,
     "status": "ok",
     "timestamp": 1723793462749,
     "user": {
      "displayName": "l l",
      "userId": "14050689748487604186"
     },
     "user_tz": -540
    },
    "id": "-HuiKvRmERTD",
    "outputId": "5cd53dd8-1217-4292-c6dc-4c13a44fb652"
   },
   "outputs": [
    {
     "data": {
      "text/plain": [
       "array([2, 3, 4])"
      ]
     },
     "execution_count": 88,
     "metadata": {},
     "output_type": "execute_result"
    }
   ],
   "source": [
    " import numpy as np      # numpy의 별칭으로 np를 지정함\n",
    "\n",
    " a = np.array([2, 3, 4]) # 다차원 배열 객체\n",
    " a"
   ]
  },
  {
   "cell_type": "markdown",
   "metadata": {
    "id": "ZU-X1iIQ4mg6"
   },
   "source": [
    "### 3.2 파이썬 리스트 vs  넘파이 다차원 배열"
   ]
  },
  {
   "cell_type": "code",
   "execution_count": 2,
   "metadata": {
    "id": "bQntsXVz4o3e"
   },
   "outputs": [],
   "source": [
    "store_a = [20, 10, 30]  # 매장 A의 매출 : 파이썬 리스트로 표현\n",
    "store_b = [70, 90, 70]  # 매장 B의 매출 : 파이썬 리스트로 표현"
   ]
  },
  {
   "cell_type": "code",
   "execution_count": 3,
   "metadata": {
    "colab": {
     "base_uri": "https://localhost:8080/"
    },
    "executionInfo": {
     "elapsed": 3,
     "status": "ok",
     "timestamp": 1723793462749,
     "user": {
      "displayName": "l l",
      "userId": "14050689748487604186"
     },
     "user_tz": -540
    },
    "id": "tsM6dT1m4rc_",
    "outputId": "6f0e1f54-e358-4065-e85e-6891f1f3fe6f"
   },
   "outputs": [
    {
     "data": {
      "text/plain": [
       "[20, 10, 30, 70, 90, 70]"
      ]
     },
     "execution_count": 3,
     "metadata": {},
     "output_type": "execute_result"
    }
   ],
   "source": [
    "list_sum = store_a + store_b    # 파이썬 리스트의 더하기 연산\n",
    "list_sum"
   ]
  },
  {
   "cell_type": "code",
   "execution_count": 4,
   "metadata": {
    "id": "9tvGgExr40Ew"
   },
   "outputs": [],
   "source": [
    "np_store_a = np.array(store_a)  # store_a 리스트를 넘파이 배열로 변환\n",
    "np_store_b = np.array(store_b)  # store_b 리스트를 넘파이 배열로 변환"
   ]
  },
  {
   "cell_type": "code",
   "execution_count": 5,
   "metadata": {
    "colab": {
     "base_uri": "https://localhost:8080/"
    },
    "executionInfo": {
     "elapsed": 5,
     "status": "ok",
     "timestamp": 1723793469876,
     "user": {
      "displayName": "l l",
      "userId": "14050689748487604186"
     },
     "user_tz": -540
    },
    "id": "gW8LlIzQ40oK",
    "outputId": "33eeb72c-94c1-4b69-d133-9d8992011559"
   },
   "outputs": [
    {
     "data": {
      "text/plain": [
       "array([ 90, 100, 100])"
      ]
     },
     "execution_count": 5,
     "metadata": {},
     "output_type": "execute_result"
    }
   ],
   "source": [
    "array_sum = np_store_a + np_store_b  # 넘파이 배열의 덧셈 결과를 확인하자\n",
    "array_sum"
   ]
  },
  {
   "cell_type": "markdown",
   "metadata": {
    "id": "sk-AvGnSEl-A"
   },
   "source": [
    "### 3.3 다차원 배열의 속성들"
   ]
  },
  {
   "cell_type": "code",
   "execution_count": 6,
   "metadata": {
    "colab": {
     "base_uri": "https://localhost:8080/"
    },
    "executionInfo": {
     "elapsed": 549,
     "status": "ok",
     "timestamp": 1723793471787,
     "user": {
      "displayName": "l l",
      "userId": "14050689748487604186"
     },
     "user_tz": -540
    },
    "id": "ofbRk_OSEURB",
    "outputId": "07c3e843-7e01-44ac-8e03-55b79c73962c"
   },
   "outputs": [
    {
     "data": {
      "text/plain": [
       "((3,), 1, dtype('int64'), 8, 3)"
      ]
     },
     "execution_count": 6,
     "metadata": {},
     "output_type": "execute_result"
    }
   ],
   "source": [
    "a = np.array([2, 3, 4]) # 넘파이 ndarray 객체의 생성\n",
    "\n",
    "# a 객체의 형상(shape), 차원, 요소의 자료형, 요소의 크기(byte), 요소의 수\n",
    "a.shape, a.ndim, a.dtype, a.itemsize, a.size"
   ]
  },
  {
   "cell_type": "code",
   "execution_count": 7,
   "metadata": {
    "colab": {
     "base_uri": "https://localhost:8080/"
    },
    "executionInfo": {
     "elapsed": 1,
     "status": "ok",
     "timestamp": 1723793472908,
     "user": {
      "displayName": "l l",
      "userId": "14050689748487604186"
     },
     "user_tz": -540
    },
    "id": "JNWS4sq8EsCE",
    "outputId": "f885bfa3-11c6-48b8-dc0d-018734ab4865"
   },
   "outputs": [
    {
     "data": {
      "text/plain": [
       "(2, 3)"
      ]
     },
     "execution_count": 7,
     "metadata": {},
     "output_type": "execute_result"
    }
   ],
   "source": [
    "b = np.array([[1, 2, 3], [4, 5, 6]]) # 넘파이 ndarray 객체의 b 생성\n",
    "b.shape"
   ]
  },
  {
   "cell_type": "code",
   "execution_count": 8,
   "metadata": {
    "colab": {
     "base_uri": "https://localhost:8080/"
    },
    "executionInfo": {
     "elapsed": 3,
     "status": "ok",
     "timestamp": 1723793473325,
     "user": {
      "displayName": "l l",
      "userId": "14050689748487604186"
     },
     "user_tz": -540
    },
    "id": "VlLtjO91EwXT",
    "outputId": "efbb6f4e-4779-4e0c-85ad-34fbdea5c2d4"
   },
   "outputs": [
    {
     "data": {
      "text/plain": [
       "array([11, 22, 33])"
      ]
     },
     "execution_count": 8,
     "metadata": {},
     "output_type": "execute_result"
    }
   ],
   "source": [
    "a = np.array([10, 20, 30])   # 넘파이 ndarray 객체 a 생성\n",
    "b = np.array([1, 2, 3])      # 넘파이 ndarray 객체 b 생성\n",
    "a + b"
   ]
  },
  {
   "cell_type": "code",
   "execution_count": 9,
   "metadata": {
    "colab": {
     "base_uri": "https://localhost:8080/"
    },
    "executionInfo": {
     "elapsed": 2,
     "status": "ok",
     "timestamp": 1723793475058,
     "user": {
      "displayName": "l l",
      "userId": "14050689748487604186"
     },
     "user_tz": -540
    },
    "id": "woc7PyxYE2dh",
    "outputId": "59f6cab2-9ce5-4983-939b-6c4ccfd3e700"
   },
   "outputs": [
    {
     "data": {
      "text/plain": [
       "array([ 9, 18, 27])"
      ]
     },
     "execution_count": 9,
     "metadata": {},
     "output_type": "execute_result"
    }
   ],
   "source": [
    "a - b"
   ]
  },
  {
   "cell_type": "code",
   "execution_count": 10,
   "metadata": {
    "colab": {
     "base_uri": "https://localhost:8080/"
    },
    "executionInfo": {
     "elapsed": 1,
     "status": "ok",
     "timestamp": 1723793476281,
     "user": {
      "displayName": "l l",
      "userId": "14050689748487604186"
     },
     "user_tz": -540
    },
    "id": "mjUtiZE8E5De",
    "outputId": "c551f3a7-a578-45e1-e15f-33f902d53b34"
   },
   "outputs": [
    {
     "data": {
      "text/plain": [
       "array([10, 40, 90])"
      ]
     },
     "execution_count": 10,
     "metadata": {},
     "output_type": "execute_result"
    }
   ],
   "source": [
    "a * b"
   ]
  },
  {
   "cell_type": "code",
   "execution_count": 11,
   "metadata": {
    "colab": {
     "base_uri": "https://localhost:8080/"
    },
    "executionInfo": {
     "elapsed": 379,
     "status": "ok",
     "timestamp": 1723793477229,
     "user": {
      "displayName": "l l",
      "userId": "14050689748487604186"
     },
     "user_tz": -540
    },
    "id": "hAz8XyVOE6Ap",
    "outputId": "e0bab79b-7f45-4f7c-f010-eae8004da081"
   },
   "outputs": [
    {
     "data": {
      "text/plain": [
       "array([10., 10., 10.])"
      ]
     },
     "execution_count": 11,
     "metadata": {},
     "output_type": "execute_result"
    }
   ],
   "source": [
    "a / b"
   ]
  },
  {
   "cell_type": "markdown",
   "metadata": {
    "id": "8dhlOs3yE982"
   },
   "source": [
    "#### NOTE : 넘파이 배열의 데이터 타입(dtype)을 지정하는 두 가지 방법"
   ]
  },
  {
   "cell_type": "code",
   "execution_count": 12,
   "metadata": {
    "id": "JEIRkAiIFBW4"
   },
   "outputs": [],
   "source": [
    "a = np.array([1, 2, 3, 4], dtype = np.int32)"
   ]
  },
  {
   "cell_type": "code",
   "execution_count": 13,
   "metadata": {
    "id": "uKpxAkrHFDLb"
   },
   "outputs": [],
   "source": [
    "a = np.array([1, 2, 3, 4], dtype = 'int32')"
   ]
  },
  {
   "cell_type": "markdown",
   "metadata": {
    "id": "GYi7QzE3FIFh"
   },
   "source": [
    "### 3.4 다차원 배열과 브로드캐스팅"
   ]
  },
  {
   "cell_type": "code",
   "execution_count": 14,
   "metadata": {
    "colab": {
     "base_uri": "https://localhost:8080/"
    },
    "executionInfo": {
     "elapsed": 383,
     "status": "ok",
     "timestamp": 1723793481301,
     "user": {
      "displayName": "l l",
      "userId": "14050689748487604186"
     },
     "user_tz": -540
    },
    "id": "hpsBhoiLFFPb",
    "outputId": "2ba54637-e790-44ac-b48d-5ff8a42a7b0f"
   },
   "outputs": [
    {
     "data": {
      "text/plain": [
       "array([100, 200, 300])"
      ]
     },
     "execution_count": 14,
     "metadata": {},
     "output_type": "execute_result"
    }
   ],
   "source": [
    "a = np.array([10, 20, 30])\n",
    "a * 10"
   ]
  },
  {
   "cell_type": "code",
   "execution_count": 15,
   "metadata": {
    "colab": {
     "base_uri": "https://localhost:8080/"
    },
    "executionInfo": {
     "elapsed": 580,
     "status": "ok",
     "timestamp": 1723793482287,
     "user": {
      "displayName": "l l",
      "userId": "14050689748487604186"
     },
     "user_tz": -540
    },
    "id": "YHB3DpyDFOXQ",
    "outputId": "19a45600-8061-4c57-d641-06e346f5d191"
   },
   "outputs": [
    {
     "data": {
      "text/plain": [
       "array([20, 30, 40])"
      ]
     },
     "execution_count": 15,
     "metadata": {},
     "output_type": "execute_result"
    }
   ],
   "source": [
    "a + 10"
   ]
  },
  {
   "cell_type": "code",
   "execution_count": 16,
   "metadata": {
    "colab": {
     "base_uri": "https://localhost:8080/"
    },
    "executionInfo": {
     "elapsed": 3,
     "status": "ok",
     "timestamp": 1723793482689,
     "user": {
      "displayName": "l l",
      "userId": "14050689748487604186"
     },
     "user_tz": -540
    },
    "id": "THDQ7uuAFQJ6",
    "outputId": "374e7279-86d3-42e7-b563-b52b4fdc67ec"
   },
   "outputs": [
    {
     "data": {
      "text/plain": [
       "array([[12, 23, 34],\n",
       "       [42, 53, 64]])"
      ]
     },
     "execution_count": 16,
     "metadata": {},
     "output_type": "execute_result"
    }
   ],
   "source": [
    "b = np.array([[10, 20, 30],\n",
    "              [40, 50, 60]])\n",
    "c = np.array([2, 3, 4])\n",
    "b + c"
   ]
  },
  {
   "cell_type": "code",
   "execution_count": 17,
   "metadata": {
    "colab": {
     "base_uri": "https://localhost:8080/"
    },
    "executionInfo": {
     "elapsed": 7,
     "status": "ok",
     "timestamp": 1723793483996,
     "user": {
      "displayName": "l l",
      "userId": "14050689748487604186"
     },
     "user_tz": -540
    },
    "id": "5DitkDE5HZ0p",
    "outputId": "48deeba8-33d2-4c94-d67d-992cdd80365b"
   },
   "outputs": [
    {
     "data": {
      "text/plain": [
       "array([[ 20,  60, 120],\n",
       "       [ 80, 150, 240]])"
      ]
     },
     "execution_count": 17,
     "metadata": {},
     "output_type": "execute_result"
    }
   ],
   "source": [
    "b * c"
   ]
  },
  {
   "cell_type": "code",
   "execution_count": 18,
   "metadata": {
    "colab": {
     "base_uri": "https://localhost:8080/"
    },
    "executionInfo": {
     "elapsed": 2,
     "status": "ok",
     "timestamp": 1723793484996,
     "user": {
      "displayName": "l l",
      "userId": "14050689748487604186"
     },
     "user_tz": -540
    },
    "id": "X0rVxhcrHceH",
    "outputId": "dffd4080-f8a7-4fce-88b7-47e7ea7fdbf8"
   },
   "outputs": [
    {
     "data": {
      "text/plain": [
       "array([[0., 0., 0.],\n",
       "       [0., 0., 0.]])"
      ]
     },
     "execution_count": 18,
     "metadata": {},
     "output_type": "execute_result"
    }
   ],
   "source": [
    "np.zeros((2, 3)) # 2행 3열의 행렬 생성시 모든 값을 0으로"
   ]
  },
  {
   "cell_type": "code",
   "execution_count": 19,
   "metadata": {
    "colab": {
     "base_uri": "https://localhost:8080/"
    },
    "executionInfo": {
     "elapsed": 1,
     "status": "ok",
     "timestamp": 1723793485566,
     "user": {
      "displayName": "l l",
      "userId": "14050689748487604186"
     },
     "user_tz": -540
    },
    "id": "gSz1d0HpHm3_",
    "outputId": "7974d9ec-99f6-4160-c227-19871facf527"
   },
   "outputs": [
    {
     "data": {
      "text/plain": [
       "array([[1., 1., 1.],\n",
       "       [1., 1., 1.]])"
      ]
     },
     "execution_count": 19,
     "metadata": {},
     "output_type": "execute_result"
    }
   ],
   "source": [
    "np.ones((2, 3)) # 2행 3열의 행렬 생성시 모든 값을 1로"
   ]
  },
  {
   "cell_type": "code",
   "execution_count": 20,
   "metadata": {
    "colab": {
     "base_uri": "https://localhost:8080/"
    },
    "executionInfo": {
     "elapsed": 1,
     "status": "ok",
     "timestamp": 1723793486539,
     "user": {
      "displayName": "l l",
      "userId": "14050689748487604186"
     },
     "user_tz": -540
    },
    "id": "gkLFgf4CHneq",
    "outputId": "eab25212-dd9c-4b92-bc83-8adff5a555ad"
   },
   "outputs": [
    {
     "data": {
      "text/plain": [
       "array([[100, 100, 100],\n",
       "       [100, 100, 100]])"
      ]
     },
     "execution_count": 20,
     "metadata": {},
     "output_type": "execute_result"
    }
   ],
   "source": [
    "np.full((2, 3), 100) # 2행 3열의 행렬 생성시 모든 값을 100으로"
   ]
  },
  {
   "cell_type": "code",
   "execution_count": 21,
   "metadata": {
    "colab": {
     "base_uri": "https://localhost:8080/"
    },
    "executionInfo": {
     "elapsed": 2,
     "status": "ok",
     "timestamp": 1723793487353,
     "user": {
      "displayName": "l l",
      "userId": "14050689748487604186"
     },
     "user_tz": -540
    },
    "id": "OGmSBXpEHqCZ",
    "outputId": "f9ef73a2-9f02-455d-f0a4-aee9d86d5024"
   },
   "outputs": [
    {
     "data": {
      "text/plain": [
       "array([[1., 0., 0.],\n",
       "       [0., 1., 0.],\n",
       "       [0., 0., 1.]])"
      ]
     },
     "execution_count": 21,
     "metadata": {},
     "output_type": "execute_result"
    }
   ],
   "source": [
    "np.eye(3) # 3x3 크기의 단위 행렬 생성"
   ]
  },
  {
   "cell_type": "markdown",
   "metadata": {
    "id": "gdvHJgvQHuDA"
   },
   "source": [
    "### 3.5 연속적인 값을 가지는 다차원 배열의 생성"
   ]
  },
  {
   "cell_type": "code",
   "execution_count": 22,
   "metadata": {
    "colab": {
     "base_uri": "https://localhost:8080/"
    },
    "executionInfo": {
     "elapsed": 369,
     "status": "ok",
     "timestamp": 1723793517637,
     "user": {
      "displayName": "l l",
      "userId": "14050689748487604186"
     },
     "user_tz": -540
    },
    "id": "A86aUMPHHxkL",
    "outputId": "6dfffb07-1cd3-4639-a336-d2311754fbc4"
   },
   "outputs": [
    {
     "data": {
      "text/plain": [
       "array([0, 1, 2, 3, 4, 5, 6, 7, 8, 9])"
      ]
     },
     "execution_count": 22,
     "metadata": {},
     "output_type": "execute_result"
    }
   ],
   "source": [
    "np.arange(0, 10) # 0에서 9까지 연속적인 수열을 생성"
   ]
  },
  {
   "cell_type": "code",
   "execution_count": 23,
   "metadata": {
    "colab": {
     "base_uri": "https://localhost:8080/"
    },
    "executionInfo": {
     "elapsed": 377,
     "status": "ok",
     "timestamp": 1723793523283,
     "user": {
      "displayName": "l l",
      "userId": "14050689748487604186"
     },
     "user_tz": -540
    },
    "id": "jJuUPcneHzrg",
    "outputId": "fe16b34e-eb3e-4bab-a732-dfdb973db6cd"
   },
   "outputs": [
    {
     "data": {
      "text/plain": [
       "array([0, 2, 4, 6, 8])"
      ]
     },
     "execution_count": 23,
     "metadata": {},
     "output_type": "execute_result"
    }
   ],
   "source": [
    "np.arange(0, 10, 2) # 2씩 증가하는 수열을 생성"
   ]
  },
  {
   "cell_type": "code",
   "execution_count": 24,
   "metadata": {
    "colab": {
     "base_uri": "https://localhost:8080/"
    },
    "executionInfo": {
     "elapsed": 380,
     "status": "ok",
     "timestamp": 1723793533310,
     "user": {
      "displayName": "l l",
      "userId": "14050689748487604186"
     },
     "user_tz": -540
    },
    "id": "xCe6bqIdH485",
    "outputId": "698c02e2-cded-4414-8876-5aa6753f475a"
   },
   "outputs": [
    {
     "data": {
      "text/plain": [
       "array([0. , 0.2, 0.4, 0.6, 0.8])"
      ]
     },
     "execution_count": 24,
     "metadata": {},
     "output_type": "execute_result"
    }
   ],
   "source": [
    "np.arange(0.0, 1.0, 0.2) # 0.2씩 증가하는 수열을 생성"
   ]
  },
  {
   "cell_type": "code",
   "execution_count": 25,
   "metadata": {
    "colab": {
     "base_uri": "https://localhost:8080/"
    },
    "executionInfo": {
     "elapsed": 376,
     "status": "ok",
     "timestamp": 1723793539837,
     "user": {
      "displayName": "l l",
      "userId": "14050689748487604186"
     },
     "user_tz": -540
    },
    "id": "PEIS8M9LH7Qr",
    "outputId": "ce2d197e-54ed-4c35-f1aa-2e8eea087043"
   },
   "outputs": [
    {
     "data": {
      "text/plain": [
       "array([ 0. ,  2.5,  5. ,  7.5, 10. ])"
      ]
     },
     "execution_count": 25,
     "metadata": {},
     "output_type": "execute_result"
    }
   ],
   "source": [
    "np.linspace(0, 10, 5)"
   ]
  },
  {
   "cell_type": "code",
   "execution_count": 26,
   "metadata": {
    "colab": {
     "base_uri": "https://localhost:8080/"
    },
    "executionInfo": {
     "elapsed": 366,
     "status": "ok",
     "timestamp": 1723793557884,
     "user": {
      "displayName": "l l",
      "userId": "14050689748487604186"
     },
     "user_tz": -540
    },
    "id": "HvFm6beaH_5f",
    "outputId": "fce95bab-38fe-43de-e1ed-2a03faf0c438"
   },
   "outputs": [
    {
     "data": {
      "text/plain": [
       "array([ 0.        ,  3.33333333,  6.66666667, 10.        ])"
      ]
     },
     "execution_count": 26,
     "metadata": {},
     "output_type": "execute_result"
    }
   ],
   "source": [
    "np.linspace(0, 10, 4)"
   ]
  },
  {
   "cell_type": "code",
   "execution_count": 27,
   "metadata": {
    "colab": {
     "base_uri": "https://localhost:8080/"
    },
    "executionInfo": {
     "elapsed": 369,
     "status": "ok",
     "timestamp": 1723793606461,
     "user": {
      "displayName": "l l",
      "userId": "14050689748487604186"
     },
     "user_tz": -540
    },
    "id": "nkNlkpkqIB7e",
    "outputId": "ef3e4ec7-44b3-4e58-99e1-707429d216b3"
   },
   "outputs": [
    {
     "data": {
      "text/plain": [
       "array([1.e+00, 1.e+01, 1.e+02, 1.e+03, 1.e+04, 1.e+05])"
      ]
     },
     "execution_count": 27,
     "metadata": {},
     "output_type": "execute_result"
    }
   ],
   "source": [
    "a = np.logspace(0, 5, 6).round(10) # 10^0에서 10^5까지 6개의 수를\n",
    "a                                  # 로그 스케일 균일한 간격으로 생성한다."
   ]
  },
  {
   "cell_type": "code",
   "execution_count": 28,
   "metadata": {
    "colab": {
     "base_uri": "https://localhost:8080/"
    },
    "executionInfo": {
     "elapsed": 370,
     "status": "ok",
     "timestamp": 1723793613865,
     "user": {
      "displayName": "l l",
      "userId": "14050689748487604186"
     },
     "user_tz": -540
    },
    "id": "g_INFDPnIKmr",
    "outputId": "ff339280-2b04-4903-efb3-2b75765f76f0"
   },
   "outputs": [
    {
     "data": {
      "text/plain": [
       "array([0., 1., 2., 3., 4., 5.])"
      ]
     },
     "execution_count": 28,
     "metadata": {},
     "output_type": "execute_result"
    }
   ],
   "source": [
    "np.log10(a) # a 배열에 로그를 취하면 0, 1, 2, 3, 4, 5가 생성됨"
   ]
  },
  {
   "cell_type": "markdown",
   "metadata": {
    "id": "mPrb8mTnTe0D"
   },
   "source": [
    "### 3.6 다차원 배열의 축과 삽입"
   ]
  },
  {
   "cell_type": "code",
   "execution_count": 29,
   "metadata": {
    "colab": {
     "base_uri": "https://localhost:8080/"
    },
    "executionInfo": {
     "elapsed": 377,
     "status": "ok",
     "timestamp": 1723793678536,
     "user": {
      "displayName": "l l",
      "userId": "14050689748487604186"
     },
     "user_tz": -540
    },
    "id": "GFAWnOFdIMzt",
    "outputId": "8a29eb07-8d2f-4700-a8c1-dc542e9e6025"
   },
   "outputs": [
    {
     "data": {
      "text/plain": [
       "array([1, 2, 3, 4])"
      ]
     },
     "execution_count": 29,
     "metadata": {},
     "output_type": "execute_result"
    }
   ],
   "source": [
    "a = np.array([1, 3, 4])\n",
    "np.insert(a, 1, 2)"
   ]
  },
  {
   "cell_type": "code",
   "execution_count": 30,
   "metadata": {
    "colab": {
     "base_uri": "https://localhost:8080/"
    },
    "executionInfo": {
     "elapsed": 355,
     "status": "ok",
     "timestamp": 1723793718529,
     "user": {
      "displayName": "l l",
      "userId": "14050689748487604186"
     },
     "user_tz": -540
    },
    "id": "ik4oYPriT6Wh",
    "outputId": "d4f7340b-0fb6-4508-e52b-f9857be0f8aa"
   },
   "outputs": [
    {
     "data": {
      "text/plain": [
       "array([[1, 1],\n",
       "       [4, 4],\n",
       "       [2, 2],\n",
       "       [3, 3]])"
      ]
     },
     "execution_count": 30,
     "metadata": {},
     "output_type": "execute_result"
    }
   ],
   "source": [
    "b = np.array([[1, 1], [2, 2], [3, 3]])\n",
    "np.insert(b, 1, 4, axis = 0)"
   ]
  },
  {
   "cell_type": "code",
   "execution_count": 31,
   "metadata": {
    "colab": {
     "base_uri": "https://localhost:8080/"
    },
    "executionInfo": {
     "elapsed": 389,
     "status": "ok",
     "timestamp": 1723793792601,
     "user": {
      "displayName": "l l",
      "userId": "14050689748487604186"
     },
     "user_tz": -540
    },
    "id": "Br0Ah1gWT-pN",
    "outputId": "b87db56f-8d86-442f-f639-43cabb1f49bd"
   },
   "outputs": [
    {
     "data": {
      "text/plain": [
       "array([[1, 4, 1],\n",
       "       [2, 4, 2],\n",
       "       [3, 4, 3]])"
      ]
     },
     "execution_count": 31,
     "metadata": {},
     "output_type": "execute_result"
    }
   ],
   "source": [
    "np.insert(b, 1, 4, axis = 1)"
   ]
  },
  {
   "cell_type": "code",
   "execution_count": 32,
   "metadata": {
    "colab": {
     "base_uri": "https://localhost:8080/"
    },
    "executionInfo": {
     "elapsed": 2,
     "status": "ok",
     "timestamp": 1723793793726,
     "user": {
      "displayName": "l l",
      "userId": "14050689748487604186"
     },
     "user_tz": -540
    },
    "id": "j6FhRo5FUA_D",
    "outputId": "cf45ce9e-e875-4f7f-c221-f2627dfce77f"
   },
   "outputs": [
    {
     "data": {
      "text/plain": [
       "array([[3, 2, 1],\n",
       "       [6, 5, 4]])"
      ]
     },
     "execution_count": 32,
     "metadata": {},
     "output_type": "execute_result"
    }
   ],
   "source": [
    "c = np.array([[1, 2, 3], [4, 5, 6]])\n",
    "np.flip(c, axis=1)"
   ]
  },
  {
   "cell_type": "code",
   "execution_count": 33,
   "metadata": {
    "colab": {
     "base_uri": "https://localhost:8080/"
    },
    "executionInfo": {
     "elapsed": 384,
     "status": "ok",
     "timestamp": 1723793797178,
     "user": {
      "displayName": "l l",
      "userId": "14050689748487604186"
     },
     "user_tz": -540
    },
    "id": "ru9ZaS9UUKCy",
    "outputId": "880e4ab9-663e-4a72-af1b-b8c5ee6939ee"
   },
   "outputs": [
    {
     "data": {
      "text/plain": [
       "array([[4, 5, 6],\n",
       "       [1, 2, 3]])"
      ]
     },
     "execution_count": 33,
     "metadata": {},
     "output_type": "execute_result"
    }
   ],
   "source": [
    "np.flip(c, axis=0)"
   ]
  },
  {
   "cell_type": "markdown",
   "metadata": {
    "id": "rg6MxPjt6IuW"
   },
   "source": [
    "### 3.7 넘파이 배열의 인덱싱과 슬라이싱"
   ]
  },
  {
   "cell_type": "code",
   "execution_count": 34,
   "metadata": {
    "colab": {
     "base_uri": "https://localhost:8080/"
    },
    "executionInfo": {
     "elapsed": 2,
     "status": "ok",
     "timestamp": 1723960739893,
     "user": {
      "displayName": "l l",
      "userId": "14050689748487604186"
     },
     "user_tz": -540
    },
    "id": "yT4SP1zG6Oa_",
    "outputId": "3626d6ef-9266-4130-f12e-e344702fa28f"
   },
   "outputs": [
    {
     "name": "stdout",
     "output_type": "stream",
     "text": [
      "1\n",
      "[7 8 9]\n"
     ]
    }
   ],
   "source": [
    "a = np.array( [[1, 2, 3], [4, 5, 6],\n",
    "               [7, 8, 9], [0, 1, 2]] )\n",
    "\n",
    "print(a[0][0])\n",
    "print(a[2])"
   ]
  },
  {
   "cell_type": "code",
   "execution_count": 35,
   "metadata": {
    "colab": {
     "base_uri": "https://localhost:8080/"
    },
    "executionInfo": {
     "elapsed": 490,
     "status": "ok",
     "timestamp": 1723960772391,
     "user": {
      "displayName": "l l",
      "userId": "14050689748487604186"
     },
     "user_tz": -540
    },
    "id": "BaXeFZvHU7Ph",
    "outputId": "63cebe93-5df3-4915-b90d-7e87e1bf92a8"
   },
   "outputs": [
    {
     "data": {
      "text/plain": [
       "array([[4, 5, 6],\n",
       "       [7, 8, 9]])"
      ]
     },
     "execution_count": 35,
     "metadata": {},
     "output_type": "execute_result"
    }
   ],
   "source": [
    "a[1:][0:2]"
   ]
  },
  {
   "cell_type": "code",
   "execution_count": 36,
   "metadata": {
    "colab": {
     "base_uri": "https://localhost:8080/"
    },
    "executionInfo": {
     "elapsed": 574,
     "status": "ok",
     "timestamp": 1723960857185,
     "user": {
      "displayName": "l l",
      "userId": "14050689748487604186"
     },
     "user_tz": -540
    },
    "id": "wDuE5_CaU_gp",
    "outputId": "4294a68d-06c0-4f7b-f394-b40f2974367c"
   },
   "outputs": [
    {
     "name": "stdout",
     "output_type": "stream",
     "text": [
      "1 1\n",
      "2 2\n",
      "3 3\n",
      "4 4\n",
      "5 5\n",
      "6 6\n",
      "7 7\n",
      "8 8\n",
      "9 9\n",
      "0 0\n",
      "1 1\n",
      "2 2\n"
     ]
    }
   ],
   "source": [
    "length0, length1 = a.shape\n",
    "for i in range(length0):\n",
    "    for j in range(length1):\n",
    "        print(a[i][j], a[i, j])"
   ]
  },
  {
   "cell_type": "markdown",
   "metadata": {
    "id": "XEFWmHr46lWK"
   },
   "source": [
    "### 3.8 넘파이 스타일의 슬라이싱과 논리 인덱싱"
   ]
  },
  {
   "cell_type": "code",
   "execution_count": 37,
   "metadata": {
    "colab": {
     "base_uri": "https://localhost:8080/"
    },
    "executionInfo": {
     "elapsed": 493,
     "status": "ok",
     "timestamp": 1723960889732,
     "user": {
      "displayName": "l l",
      "userId": "14050689748487604186"
     },
     "user_tz": -540
    },
    "id": "_5bodHRE6qfS",
    "outputId": "b7559095-5c93-4af4-9a93-122f931b3932"
   },
   "outputs": [
    {
     "data": {
      "text/plain": [
       "array([[4, 5],\n",
       "       [7, 8],\n",
       "       [0, 1]])"
      ]
     },
     "execution_count": 37,
     "metadata": {},
     "output_type": "execute_result"
    }
   ],
   "source": [
    "a = np.array([[1, 2, 3],\n",
    "              [4, 5, 6],\n",
    "              [7, 8, 9],\n",
    "              [0, 1, 2]])\n",
    "a[1: , 0:2]"
   ]
  },
  {
   "cell_type": "code",
   "execution_count": 38,
   "metadata": {
    "colab": {
     "base_uri": "https://localhost:8080/"
    },
    "executionInfo": {
     "elapsed": 568,
     "status": "ok",
     "timestamp": 1723960937805,
     "user": {
      "displayName": "l l",
      "userId": "14050689748487604186"
     },
     "user_tz": -540
    },
    "id": "1F7-Yy0K6vk0",
    "outputId": "c19bfc79-9576-40a3-9644-e504eb72c1a1"
   },
   "outputs": [
    {
     "data": {
      "text/plain": [
       "array([[False,  True, False,  True],\n",
       "       [False,  True, False,  True],\n",
       "       [False,  True, False,  True],\n",
       "       [False,  True, False,  True]])"
      ]
     },
     "execution_count": 38,
     "metadata": {},
     "output_type": "execute_result"
    }
   ],
   "source": [
    "a = np.array([[1,2,3,4], [5,6,7,8], [9,10,11,12], [13,14,15,16]])\n",
    "a % 2 == 0"
   ]
  },
  {
   "cell_type": "code",
   "execution_count": 39,
   "metadata": {
    "colab": {
     "base_uri": "https://localhost:8080/"
    },
    "executionInfo": {
     "elapsed": 2,
     "status": "ok",
     "timestamp": 1723960938423,
     "user": {
      "displayName": "l l",
      "userId": "14050689748487604186"
     },
     "user_tz": -540
    },
    "id": "8ropet9N6xRL",
    "outputId": "97874e54-da5a-44dc-d6c5-49cdcb552e97"
   },
   "outputs": [
    {
     "data": {
      "text/plain": [
       "array([ 2,  4,  6,  8, 10, 12, 14, 16])"
      ]
     },
     "execution_count": 39,
     "metadata": {},
     "output_type": "execute_result"
    }
   ],
   "source": [
    "a[ a % 2 == 0 ]"
   ]
  },
  {
   "cell_type": "markdown",
   "metadata": {
    "id": "rv7Df-pT_tlP"
   },
   "source": [
    "### 3.9 다차원 배열의 최대값, 최소값, 평균값 구하가"
   ]
  },
  {
   "cell_type": "code",
   "execution_count": 40,
   "metadata": {
    "colab": {
     "base_uri": "https://localhost:8080/"
    },
    "executionInfo": {
     "elapsed": 646,
     "status": "ok",
     "timestamp": 1723960944188,
     "user": {
      "displayName": "l l",
      "userId": "14050689748487604186"
     },
     "user_tz": -540
    },
    "id": "9FhyBt0-VJDW",
    "outputId": "7a1b52a4-26ef-4631-8116-8342411e2fa3"
   },
   "outputs": [
    {
     "data": {
      "text/plain": [
       "(np.int64(30), np.int64(10))"
      ]
     },
     "execution_count": 40,
     "metadata": {},
     "output_type": "execute_result"
    }
   ],
   "source": [
    "import numpy as np\n",
    "\n",
    "a = np.array([10, 20, 30])\n",
    "a.max(), a.min()           # a 배열원소 중 최대값, 최소값을 출력함"
   ]
  },
  {
   "cell_type": "code",
   "execution_count": 41,
   "metadata": {
    "colab": {
     "base_uri": "https://localhost:8080/"
    },
    "executionInfo": {
     "elapsed": 2,
     "status": "ok",
     "timestamp": 1723960945722,
     "user": {
      "displayName": "l l",
      "userId": "14050689748487604186"
     },
     "user_tz": -540
    },
    "id": "Oi6YysvvVO4A",
    "outputId": "9081bcc2-d6cf-44c8-db2a-b0bce2694e64"
   },
   "outputs": [
    {
     "data": {
      "text/plain": [
       "np.float64(20.0)"
      ]
     },
     "execution_count": 41,
     "metadata": {},
     "output_type": "execute_result"
    }
   ],
   "source": [
    "a.mean()"
   ]
  },
  {
   "cell_type": "code",
   "execution_count": 42,
   "metadata": {
    "colab": {
     "base_uri": "https://localhost:8080/"
    },
    "executionInfo": {
     "elapsed": 491,
     "status": "ok",
     "timestamp": 1723960948787,
     "user": {
      "displayName": "l l",
      "userId": "14050689748487604186"
     },
     "user_tz": -540
    },
    "id": "zcIBdzgKVQ3d",
    "outputId": "8f005713-9f70-45ce-a3bc-7c6fe21109d8"
   },
   "outputs": [
    {
     "data": {
      "text/plain": [
       "array([10., 20., 30.])"
      ]
     },
     "execution_count": 42,
     "metadata": {},
     "output_type": "execute_result"
    }
   ],
   "source": [
    "a.astype(np.float64)"
   ]
  },
  {
   "cell_type": "code",
   "execution_count": 43,
   "metadata": {
    "colab": {
     "base_uri": "https://localhost:8080/"
    },
    "executionInfo": {
     "elapsed": 488,
     "status": "ok",
     "timestamp": 1723960955940,
     "user": {
      "displayName": "l l",
      "userId": "14050689748487604186"
     },
     "user_tz": -540
    },
    "id": "W8wIccj9VTVe",
    "outputId": "02ea5ced-6880-4cfe-f8c6-8dba02cea90d"
   },
   "outputs": [
    {
     "data": {
      "text/plain": [
       "array([1, 1, 2, 2, 3, 3])"
      ]
     },
     "execution_count": 43,
     "metadata": {},
     "output_type": "execute_result"
    }
   ],
   "source": [
    "b = np.array([[1, 1], [2, 2], [3, 3]])\n",
    "b.flatten() # 넘파이 다차원 배열의 평탄화 메소드"
   ]
  },
  {
   "cell_type": "code",
   "execution_count": 44,
   "metadata": {
    "colab": {
     "base_uri": "https://localhost:8080/"
    },
    "executionInfo": {
     "elapsed": 486,
     "status": "ok",
     "timestamp": 1723960960172,
     "user": {
      "displayName": "l l",
      "userId": "14050689748487604186"
     },
     "user_tz": -540
    },
    "id": "CmVl1Tz7VyyB",
    "outputId": "b1c6a83e-7ca6-4db7-e3c5-41e8f4ba2114"
   },
   "outputs": [
    {
     "data": {
      "text/plain": [
       "array([[1, 2, 3],\n",
       "       [1, 2, 3]])"
      ]
     },
     "execution_count": 44,
     "metadata": {},
     "output_type": "execute_result"
    }
   ],
   "source": [
    "b = np.array([[1, 1], [2, 2], [3, 3]])\n",
    "b.T"
   ]
  },
  {
   "cell_type": "code",
   "execution_count": 45,
   "metadata": {
    "colab": {
     "base_uri": "https://localhost:8080/"
    },
    "executionInfo": {
     "elapsed": 598,
     "status": "ok",
     "timestamp": 1723960989789,
     "user": {
      "displayName": "l l",
      "userId": "14050689748487604186"
     },
     "user_tz": -540
    },
    "id": "BD5ujkzoV4iV",
    "outputId": "4de11dbc-0fd3-44a8-b36f-05d2f34cee85"
   },
   "outputs": [
    {
     "data": {
      "text/plain": [
       "array([99, 69, 55, 35, 24, 19])"
      ]
     },
     "execution_count": 45,
     "metadata": {},
     "output_type": "execute_result"
    }
   ],
   "source": [
    "c = np.array([35, 24, 55, 69, 19, 99])\n",
    "c.sort() # 배열의 정렬(오름차순)\n",
    "c[::-1] # 내림차순 정렬"
   ]
  },
  {
   "cell_type": "code",
   "execution_count": 46,
   "metadata": {
    "colab": {
     "base_uri": "https://localhost:8080/"
    },
    "executionInfo": {
     "elapsed": 475,
     "status": "ok",
     "timestamp": 1723961046219,
     "user": {
      "displayName": "l l",
      "userId": "14050689748487604186"
     },
     "user_tz": -540
    },
    "id": "etHXWS3oV6vo",
    "outputId": "81243631-9ddc-4584-a770-e47931c11aa8"
   },
   "outputs": [
    {
     "data": {
      "text/plain": [
       "array([[24, 35, 55],\n",
       "       [ 9, 19, 69],\n",
       "       [ 1,  4, 11]])"
      ]
     },
     "execution_count": 46,
     "metadata": {},
     "output_type": "execute_result"
    }
   ],
   "source": [
    "d = np.array([[35, 24, 55], [69, 19, 9], [4, 1, 11]])\n",
    "d.sort()         # 배열의 정렬, 디폴트 axis는 1\n",
    "d"
   ]
  },
  {
   "cell_type": "code",
   "execution_count": 47,
   "metadata": {
    "colab": {
     "base_uri": "https://localhost:8080/"
    },
    "executionInfo": {
     "elapsed": 800,
     "status": "ok",
     "timestamp": 1723961068168,
     "user": {
      "displayName": "l l",
      "userId": "14050689748487604186"
     },
     "user_tz": -540
    },
    "id": "6-oKe10QWEUr",
    "outputId": "de681c6f-099e-4058-fc75-9a7e913bc876"
   },
   "outputs": [
    {
     "data": {
      "text/plain": [
       "array([[ 4,  1,  9],\n",
       "       [35, 19, 11],\n",
       "       [69, 24, 55]])"
      ]
     },
     "execution_count": 47,
     "metadata": {},
     "output_type": "execute_result"
    }
   ],
   "source": [
    "d = np.array([[35, 24, 55], [69, 19, 9], [4, 1, 11]])\n",
    "d.sort(axis=0)   # axis=0 방향 정렬\n",
    "d"
   ]
  },
  {
   "cell_type": "markdown",
   "metadata": {
    "id": "nj-Bex2CWNG_"
   },
   "source": [
    "### 3.10 다차원 배열을 위한 append() 함수와 행렬 곱셈"
   ]
  },
  {
   "cell_type": "code",
   "execution_count": 48,
   "metadata": {
    "colab": {
     "base_uri": "https://localhost:8080/"
    },
    "executionInfo": {
     "elapsed": 530,
     "status": "ok",
     "timestamp": 1723961113181,
     "user": {
      "displayName": "l l",
      "userId": "14050689748487604186"
     },
     "user_tz": -540
    },
    "id": "9AMqbg-OWQtB",
    "outputId": "10c19f39-5a04-4925-f92b-d1aedebd89c5"
   },
   "outputs": [
    {
     "data": {
      "text/plain": [
       "array([1, 2, 3, 4, 5, 6, 7, 8, 9])"
      ]
     },
     "execution_count": 48,
     "metadata": {},
     "output_type": "execute_result"
    }
   ],
   "source": [
    "a = np.array([1, 2, 3])\n",
    "b = np.array([[4, 5, 6], [7, 8, 9]])\n",
    "np.append(a, b)"
   ]
  },
  {
   "cell_type": "code",
   "execution_count": 49,
   "metadata": {
    "colab": {
     "base_uri": "https://localhost:8080/"
    },
    "executionInfo": {
     "elapsed": 482,
     "status": "ok",
     "timestamp": 1723961178829,
     "user": {
      "displayName": "l l",
      "userId": "14050689748487604186"
     },
     "user_tz": -540
    },
    "id": "LtoHNDkqWTiE",
    "outputId": "cdc5f513-6959-49d2-fb93-35a7bcd45096"
   },
   "outputs": [
    {
     "data": {
      "text/plain": [
       "array([[1, 2, 3],\n",
       "       [4, 5, 6],\n",
       "       [7, 8, 9]])"
      ]
     },
     "execution_count": 49,
     "metadata": {},
     "output_type": "execute_result"
    }
   ],
   "source": [
    "np.append([a], b, axis = 0) # [a]를 통해 2차원 배열로 만들어야 함"
   ]
  },
  {
   "cell_type": "code",
   "execution_count": 50,
   "metadata": {
    "colab": {
     "base_uri": "https://localhost:8080/"
    },
    "executionInfo": {
     "elapsed": 382,
     "status": "ok",
     "timestamp": 1723472274919,
     "user": {
      "displayName": "박동규",
      "userId": "12283933156391729074"
     },
     "user_tz": -540
    },
    "id": "LUPvzpn6QEbh",
    "outputId": "30c2c09a-68a6-4a95-f9ad-3958df5e2270"
   },
   "outputs": [
    {
     "data": {
      "text/plain": [
       "array([[1, 2, 3, 4],\n",
       "       [5, 6, 7, 8]])"
      ]
     },
     "execution_count": 50,
     "metadata": {},
     "output_type": "execute_result"
    }
   ],
   "source": [
    "a = [1, 2, 3, 4, 5, 6, 7, 8]     # 1차원 리스트 a\n",
    "b = np.reshape(a,(2,4)) # 2행4열 행렬 b\n",
    "c = np.reshape(a,(4,2)) # 4행2열 행렬 c\n",
    "b"
   ]
  },
  {
   "cell_type": "code",
   "execution_count": 51,
   "metadata": {
    "colab": {
     "base_uri": "https://localhost:8080/"
    },
    "executionInfo": {
     "elapsed": 2,
     "status": "ok",
     "timestamp": 1723472277430,
     "user": {
      "displayName": "박동규",
      "userId": "12283933156391729074"
     },
     "user_tz": -540
    },
    "id": "7-cdOqIOQahQ",
    "outputId": "f9402c98-31e8-421d-d478-05f223b84468"
   },
   "outputs": [
    {
     "data": {
      "text/plain": [
       "array([[1, 2],\n",
       "       [3, 4],\n",
       "       [5, 6],\n",
       "       [7, 8]])"
      ]
     },
     "execution_count": 51,
     "metadata": {},
     "output_type": "execute_result"
    }
   ],
   "source": [
    "c"
   ]
  },
  {
   "cell_type": "code",
   "execution_count": 52,
   "metadata": {
    "colab": {
     "base_uri": "https://localhost:8080/"
    },
    "executionInfo": {
     "elapsed": 509,
     "status": "ok",
     "timestamp": 1723961213245,
     "user": {
      "displayName": "l l",
      "userId": "14050689748487604186"
     },
     "user_tz": -540
    },
    "id": "OkHXIdVtQ4Dw",
    "outputId": "c931d0a3-f7b8-45e1-ed36-2b54a3e0429c"
   },
   "outputs": [
    {
     "data": {
      "text/plain": [
       "array([[[1, 2],\n",
       "        [3, 4]],\n",
       "\n",
       "       [[5, 6],\n",
       "        [7, 8]]])"
      ]
     },
     "execution_count": 52,
     "metadata": {},
     "output_type": "execute_result"
    }
   ],
   "source": [
    "a = np.arange(1,9)   # 1차원 배열 a\n",
    "b = a.reshape(2,2,2) # 3차원 배열 b\n",
    "b"
   ]
  },
  {
   "cell_type": "code",
   "execution_count": 53,
   "metadata": {
    "colab": {
     "base_uri": "https://localhost:8080/"
    },
    "executionInfo": {
     "elapsed": 482,
     "status": "ok",
     "timestamp": 1723961232229,
     "user": {
      "displayName": "l l",
      "userId": "14050689748487604186"
     },
     "user_tz": -540
    },
    "id": "WXFCUkHcRJQA",
    "outputId": "08a29354-79d1-462b-ff4d-a5c5626b241c"
   },
   "outputs": [
    {
     "data": {
      "text/plain": [
       "array([[1, 2],\n",
       "       [3, 4]])"
      ]
     },
     "execution_count": 53,
     "metadata": {},
     "output_type": "execute_result"
    }
   ],
   "source": [
    "b[0]"
   ]
  },
  {
   "cell_type": "code",
   "execution_count": 54,
   "metadata": {
    "colab": {
     "base_uri": "https://localhost:8080/"
    },
    "executionInfo": {
     "elapsed": 471,
     "status": "ok",
     "timestamp": 1723961257313,
     "user": {
      "displayName": "l l",
      "userId": "14050689748487604186"
     },
     "user_tz": -540
    },
    "id": "ZcCl8tQVTjRg",
    "outputId": "f2d4354d-9114-4a02-eb22-169f8d0b47c1"
   },
   "outputs": [
    {
     "data": {
      "text/plain": [
       "array([[0, 1, 2, 3, 4],\n",
       "       [5, 6, 7, 8, 9]])"
      ]
     },
     "execution_count": 54,
     "metadata": {},
     "output_type": "execute_result"
    }
   ],
   "source": [
    "a=np.arange(10).reshape(-1,5)\n",
    "a"
   ]
  },
  {
   "cell_type": "code",
   "execution_count": 55,
   "metadata": {
    "colab": {
     "base_uri": "https://localhost:8080/"
    },
    "executionInfo": {
     "elapsed": 4,
     "status": "ok",
     "timestamp": 1723961259586,
     "user": {
      "displayName": "l l",
      "userId": "14050689748487604186"
     },
     "user_tz": -540
    },
    "id": "1CJ9HJ8C3VXP",
    "outputId": "90fbea46-c41d-43d5-e7f8-352f92fc9e37"
   },
   "outputs": [
    {
     "data": {
      "text/plain": [
       "array([0, 1, 2, 3, 4, 5, 6, 7, 8, 9])"
      ]
     },
     "execution_count": 55,
     "metadata": {},
     "output_type": "execute_result"
    }
   ],
   "source": [
    "a.reshape(-1)"
   ]
  },
  {
   "cell_type": "markdown",
   "metadata": {
    "id": "pjAOmmjEWvVf"
   },
   "source": [
    "### 3.11 과학자들이 사랑하는 수: 난수"
   ]
  },
  {
   "cell_type": "code",
   "execution_count": 56,
   "metadata": {
    "colab": {
     "base_uri": "https://localhost:8080/"
    },
    "executionInfo": {
     "elapsed": 664,
     "status": "ok",
     "timestamp": 1723961423803,
     "user": {
      "displayName": "l l",
      "userId": "14050689748487604186"
     },
     "user_tz": -540
    },
    "id": "cHBQNxCmWydS",
    "outputId": "b4cd6273-2325-45d5-99e7-45e3ffccce60"
   },
   "outputs": [
    {
     "name": "stdout",
     "output_type": "stream",
     "text": [
      "829870797\n",
      "1533044610\n"
     ]
    }
   ],
   "source": [
    "def pseudo_rand(x):\n",
    "    a = 1103515245\n",
    "    b = 12345\n",
    "    m = 2 ** 31\n",
    "    new_x = (a * x + b) % m\n",
    "    return new_x\n",
    "\n",
    "seed = 100 # 초기값을 임의로 설정하자\n",
    "\n",
    "x = pseudo_rand(seed) # seed를 입력으로 하여 새로운 x를 만들자\n",
    "print(x)\n",
    "x = pseudo_rand(x) # x_n을 입력으로 하여 새로운 x_(n+1)을 만들자\n",
    "print(x)"
   ]
  },
  {
   "cell_type": "code",
   "execution_count": 57,
   "metadata": {
    "colab": {
     "base_uri": "https://localhost:8080/"
    },
    "executionInfo": {
     "elapsed": 665,
     "status": "ok",
     "timestamp": 1723961526250,
     "user": {
      "displayName": "l l",
      "userId": "14050689748487604186"
     },
     "user_tz": -540
    },
    "id": "gF_sjxt9OePI",
    "outputId": "5ab1e0d2-2282-4862-edaf-d914586db831"
   },
   "outputs": [
    {
     "data": {
      "text/plain": [
       "array([0.92541906, 0.84140315, 0.05214011, 0.57423086, 0.15104655])"
      ]
     },
     "execution_count": 57,
     "metadata": {},
     "output_type": "execute_result"
    }
   ],
   "source": [
    "import numpy as np\n",
    "\n",
    "np.random.rand(5)"
   ]
  },
  {
   "cell_type": "code",
   "execution_count": 58,
   "metadata": {
    "colab": {
     "base_uri": "https://localhost:8080/"
    },
    "executionInfo": {
     "elapsed": 504,
     "status": "ok",
     "timestamp": 1723961540801,
     "user": {
      "displayName": "l l",
      "userId": "14050689748487604186"
     },
     "user_tz": -540
    },
    "id": "ON8xkzirWrkj",
    "outputId": "d7134068-037b-407c-99c8-f7166385353c"
   },
   "outputs": [
    {
     "data": {
      "text/plain": [
       "array([165, 154, 163, 160, 157, 181, 160, 168, 164, 181], dtype=int32)"
      ]
     },
     "execution_count": 58,
     "metadata": {},
     "output_type": "execute_result"
    }
   ],
   "source": [
    "np.random.randint(150, 191, size=10)"
   ]
  },
  {
   "cell_type": "markdown",
   "metadata": {
    "id": "4-4l9MBFXEEw"
   },
   "source": [
    "### 3.11 다양한 난수 만들기 함수를 살펴보자"
   ]
  },
  {
   "cell_type": "code",
   "execution_count": 59,
   "metadata": {
    "colab": {
     "base_uri": "https://localhost:8080/"
    },
    "executionInfo": {
     "elapsed": 570,
     "status": "ok",
     "timestamp": 1723961571752,
     "user": {
      "displayName": "l l",
      "userId": "14050689748487604186"
     },
     "user_tz": -540
    },
    "id": "nkVd9mfyXHix",
    "outputId": "73448917-fd29-4756-a53d-85f1ed389afd"
   },
   "outputs": [
    {
     "data": {
      "text/plain": [
       "array([176.03111501, 155.83813056, 166.28451683, 149.8058208 ,\n",
       "       177.03093016])"
      ]
     },
     "execution_count": 59,
     "metadata": {},
     "output_type": "execute_result"
    }
   ],
   "source": [
    " rnd = np.random.randn(5) * 10 + 165 # 평균값이 165,표준편차가 10인 값 생성\n",
    " rnd"
   ]
  },
  {
   "cell_type": "code",
   "execution_count": 60,
   "metadata": {
    "colab": {
     "base_uri": "https://localhost:8080/"
    },
    "executionInfo": {
     "elapsed": 460,
     "status": "ok",
     "timestamp": 1723961577331,
     "user": {
      "displayName": "l l",
      "userId": "14050689748487604186"
     },
     "user_tz": -540
    },
    "id": "6F0StIzMXCqH",
    "outputId": "6d880781-aca8-4a22-e11c-bbb5f005d23a"
   },
   "outputs": [
    {
     "data": {
      "text/plain": [
       "array([176.03, 155.84, 166.28, 149.81, 177.03])"
      ]
     },
     "execution_count": 60,
     "metadata": {},
     "output_type": "execute_result"
    }
   ],
   "source": [
    "rnd.round(2)       # 소수점 아래 둘째 자리까지 값으로 변환"
   ]
  },
  {
   "cell_type": "code",
   "execution_count": 61,
   "metadata": {
    "colab": {
     "base_uri": "https://localhost:8080/"
    },
    "executionInfo": {
     "elapsed": 498,
     "status": "ok",
     "timestamp": 1723961587467,
     "user": {
      "displayName": "l l",
      "userId": "14050689748487604186"
     },
     "user_tz": -540
    },
    "id": "OO71An8JXMpx",
    "outputId": "65b2270c-f4fd-44e8-d204-37ac7ed271d2"
   },
   "outputs": [
    {
     "data": {
      "text/plain": [
       "array([176, 155, 166, 149, 177])"
      ]
     },
     "execution_count": 61,
     "metadata": {},
     "output_type": "execute_result"
    }
   ],
   "source": [
    "rnd.astype(int)    # 정수형 자료형으로 변환"
   ]
  },
  {
   "cell_type": "code",
   "execution_count": 62,
   "metadata": {
    "id": "UTQ4f2b9WpTN"
   },
   "outputs": [],
   "source": [
    "np.random.seed(42) # 씨드 값이 특정될 경우 매번 동일한 난수의 열이 생성됨"
   ]
  },
  {
   "cell_type": "code",
   "execution_count": 63,
   "metadata": {
    "colab": {
     "base_uri": "https://localhost:8080/"
    },
    "executionInfo": {
     "elapsed": 485,
     "status": "ok",
     "timestamp": 1723961610619,
     "user": {
      "displayName": "l l",
      "userId": "14050689748487604186"
     },
     "user_tz": -540
    },
    "id": "gyKMUKoaXWsc",
    "outputId": "1a5d7752-2122-404c-d03c-dedf79284c0f"
   },
   "outputs": [
    {
     "data": {
      "text/plain": [
       "array([[169.97, 163.62, 171.48, 180.23],\n",
       "       [162.66, 162.66, 180.79, 172.67],\n",
       "       [160.31, 170.43, 160.37, 160.34]])"
      ]
     },
     "execution_count": 63,
     "metadata": {},
     "output_type": "execute_result"
    }
   ],
   "source": [
    "nums = np.random.normal(loc=165, scale=10, size=(3, 4)).round(2)\n",
    "nums"
   ]
  },
  {
   "cell_type": "code",
   "execution_count": 64,
   "metadata": {
    "colab": {
     "base_uri": "https://localhost:8080/"
    },
    "executionInfo": {
     "elapsed": 467,
     "status": "ok",
     "timestamp": 1723961793293,
     "user": {
      "displayName": "l l",
      "userId": "14050689748487604186"
     },
     "user_tz": -540
    },
    "id": "UUSCc4a3XYpl",
    "outputId": "dc3e1824-ee8b-470c-eefe-27eba1f22356"
   },
   "outputs": [
    {
     "data": {
      "text/plain": [
       "array([1, 7, 6, 2, 8, 0, 3, 4, 5, 9])"
      ]
     },
     "execution_count": 64,
     "metadata": {},
     "output_type": "execute_result"
    }
   ],
   "source": [
    "a = np.arange(10)    # 0, 1, 2, 3, 4, 5, 6, 7, 8, 9 값을 생성\n",
    "np.random.shuffle(a)\n",
    "a                    # a에는 순서가 뒤섞인 값이 들어있다"
   ]
  },
  {
   "cell_type": "code",
   "execution_count": 65,
   "metadata": {
    "colab": {
     "base_uri": "https://localhost:8080/"
    },
    "executionInfo": {
     "elapsed": 2,
     "status": "ok",
     "timestamp": 1723961796010,
     "user": {
      "displayName": "l l",
      "userId": "14050689748487604186"
     },
     "user_tz": -540
    },
    "id": "wFLsNHUNXwp7",
    "outputId": "50eb0e2f-3b5a-4240-ce85-711b5cbe0598"
   },
   "outputs": [
    {
     "data": {
      "text/plain": [
       "array([ 2, 10,  6,  8,  4])"
      ]
     },
     "execution_count": 65,
     "metadata": {},
     "output_type": "execute_result"
    }
   ],
   "source": [
    "np.random.permutation([2, 4, 6, 8, 10])"
   ]
  },
  {
   "cell_type": "markdown",
   "metadata": {
    "id": "nJwzgtFOIZ3B"
   },
   "source": [
    "### 3. 12 평균, 분산, 표준편차를 알아보자"
   ]
  },
  {
   "cell_type": "code",
   "execution_count": 66,
   "metadata": {
    "colab": {
     "base_uri": "https://localhost:8080/"
    },
    "executionInfo": {
     "elapsed": 500,
     "status": "ok",
     "timestamp": 1723961262483,
     "user": {
      "displayName": "l l",
      "userId": "14050689748487604186"
     },
     "user_tz": -540
    },
    "id": "Ost7wZ_gIgWG",
    "outputId": "b9a3608b-c5a5-498c-fc81-f35c19db0395"
   },
   "outputs": [
    {
     "name": "stdout",
     "output_type": "stream",
     "text": [
      "a의 평균값 : 30.0\n"
     ]
    }
   ],
   "source": [
    "import numpy as np\n",
    "\n",
    "a = np.array([10, 20, 30, 40, 50])\n",
    "print('a의 평균값 :', a.mean())"
   ]
  },
  {
   "cell_type": "code",
   "execution_count": 67,
   "metadata": {
    "colab": {
     "base_uri": "https://localhost:8080/"
    },
    "executionInfo": {
     "elapsed": 494,
     "status": "ok",
     "timestamp": 1723962405322,
     "user": {
      "displayName": "l l",
      "userId": "14050689748487604186"
     },
     "user_tz": -540
    },
    "id": "vbHSspUZrbbv",
    "outputId": "d9009a59-5645-4642-eb96-2182b2e21f37"
   },
   "outputs": [
    {
     "name": "stdout",
     "output_type": "stream",
     "text": [
      "A 모둠의 분산: 200.0\n"
     ]
    }
   ],
   "source": [
    "A = np.array([60, 70, 80, 90, 100])\n",
    "print('A 모둠의 분산:', np.var(A))"
   ]
  },
  {
   "cell_type": "code",
   "execution_count": 68,
   "metadata": {
    "colab": {
     "base_uri": "https://localhost:8080/"
    },
    "executionInfo": {
     "elapsed": 514,
     "status": "ok",
     "timestamp": 1723962417504,
     "user": {
      "displayName": "l l",
      "userId": "14050689748487604186"
     },
     "user_tz": -540
    },
    "id": "JtKcENtjr2pU",
    "outputId": "2fb49250-030c-4496-ee43-7dfd69e584a5"
   },
   "outputs": [
    {
     "name": "stdout",
     "output_type": "stream",
     "text": [
      "B 모둠의 분산: 8.0\n"
     ]
    }
   ],
   "source": [
    "B = np.array([76, 78, 80, 82, 84])\n",
    "print('B 모둠의 분산:', np.var(B))"
   ]
  },
  {
   "cell_type": "markdown",
   "metadata": {
    "id": "N46lyfKcYMEa"
   },
   "source": [
    "### 3.14 벡터화 연산의 성능을 측정해 보자"
   ]
  },
  {
   "cell_type": "code",
   "execution_count": 69,
   "metadata": {
    "id": "kW0jW-M5YO5y"
   },
   "outputs": [],
   "source": [
    "import numpy as np\n",
    "import time        # 수행시간 측정을 위하여 time 모듈을 가져온다\n",
    "\n",
    "arr_a = np.random.rand(100)\n",
    "arr_b = np.random.rand(100)\n",
    "result = np.zeros(100)"
   ]
  },
  {
   "cell_type": "code",
   "execution_count": 70,
   "metadata": {
    "colab": {
     "base_uri": "https://localhost:8080/"
    },
    "executionInfo": {
     "elapsed": 687,
     "status": "ok",
     "timestamp": 1723962486020,
     "user": {
      "displayName": "l l",
      "userId": "14050689748487604186"
     },
     "user_tz": -540
    },
    "id": "ad-XOOV7YSs4",
    "outputId": "6bbd3e3a-1b8d-4d5c-f59a-39586a2876e8"
   },
   "outputs": [
    {
     "name": "stdout",
     "output_type": "stream",
     "text": [
      "소요시간:  0.00010609626770019531\n"
     ]
    }
   ],
   "source": [
    "start = time.time()\n",
    "for i in range(len(arr_a)):    # 명시적인 작업 지시 : C 스타일\n",
    "    result[i] = arr_a[i] * arr_b[i]\n",
    "end = time.time()\n",
    "print('소요시간: ', end - start)"
   ]
  },
  {
   "cell_type": "code",
   "execution_count": 71,
   "metadata": {
    "colab": {
     "base_uri": "https://localhost:8080/"
    },
    "executionInfo": {
     "elapsed": 493,
     "status": "ok",
     "timestamp": 1723962504057,
     "user": {
      "displayName": "l l",
      "userId": "14050689748487604186"
     },
     "user_tz": -540
    },
    "id": "ng6-HfXcYGvT",
    "outputId": "0d25ba2d-138b-4c8a-db10-58c2d339a58e"
   },
   "outputs": [
    {
     "name": "stdout",
     "output_type": "stream",
     "text": [
      "소요시간:  5.7697296142578125e-05\n",
      "소요시간: 0.0000576973\n"
     ]
    }
   ],
   "source": [
    "start = time.time()\n",
    "result = arr_a * arr_b # 벡터화 연산 *\n",
    "end = time.time()\n",
    "print('소요시간: ', end - start)\n",
    "print('소요시간: {:12.10f}'.format(end - start))"
   ]
  },
  {
   "cell_type": "code",
   "execution_count": 72,
   "metadata": {
    "id": "DLlAEEcBZoM0"
   },
   "outputs": [],
   "source": [
    "n_elem = 100000 # 원소의 개수\n",
    "arr_a = np.random.rand(n_elem)\n",
    "arr_b = np.random.rand(n_elem)\n",
    "result = np.zeros(n_elem)"
   ]
  },
  {
   "cell_type": "code",
   "execution_count": 73,
   "metadata": {
    "colab": {
     "base_uri": "https://localhost:8080/"
    },
    "executionInfo": {
     "elapsed": 586,
     "status": "ok",
     "timestamp": 1723962535948,
     "user": {
      "displayName": "l l",
      "userId": "14050689748487604186"
     },
     "user_tz": -540
    },
    "id": "KQ4yM-VxaVXf",
    "outputId": "9c9f58db-b37e-43e6-c0fe-73ad9887bb77"
   },
   "outputs": [
    {
     "name": "stdout",
     "output_type": "stream",
     "text": [
      "원소별 접근 방식 소요시간:  0.030388832092285156\n",
      "벡터화 연산 수행 소요시간:  0.0002617835998535156\n"
     ]
    }
   ],
   "source": [
    "start = time.time()\n",
    "for i in range(n_elem): # 명시적인 작업 지시 : C 스타일\n",
    "    result[i] = arr_a[i] * arr_b[i]\n",
    "\n",
    "end = time.time()\n",
    "print('원소별 접근 방식 소요시간: ', end - start)\n",
    "\n",
    "start = time.time()\n",
    "result = arr_a * arr_b\n",
    "end = time.time()\n",
    "print('벡터화 연산 수행 소요시간: ', end - start)"
   ]
  },
  {
   "cell_type": "markdown",
   "metadata": {
    "id": "aeaujS-5ajrx"
   },
   "source": [
    "### 3.15 리덕션 : 배열을 더 강력하게 만드는 기능"
   ]
  },
  {
   "cell_type": "code",
   "execution_count": 74,
   "metadata": {
    "colab": {
     "base_uri": "https://localhost:8080/"
    },
    "executionInfo": {
     "elapsed": 546,
     "status": "ok",
     "timestamp": 1723962590010,
     "user": {
      "displayName": "l l",
      "userId": "14050689748487604186"
     },
     "user_tz": -540
    },
    "id": "iVRll3HqacV1",
    "outputId": "e4f786e0-fe69-40c9-f78e-862cee6ceabd"
   },
   "outputs": [
    {
     "name": "stdout",
     "output_type": "stream",
     "text": [
      "[ 5 10 15 20 25]\n",
      "[15 15 15 15 15]\n"
     ]
    },
    {
     "data": {
      "text/plain": [
       "np.int64(75)"
      ]
     },
     "execution_count": 74,
     "metadata": {},
     "output_type": "execute_result"
    }
   ],
   "source": [
    "arr = np.array([[1,2,3,4,5],\n",
    "                [1,2,3,4,5],\n",
    "                [1,2,3,4,5],\n",
    "                [1,2,3,4,5],\n",
    "                [1,2,3,4,5],\n",
    "               ])\n",
    "print(np.sum(arr, axis = 0))\n",
    "print(np.sum(arr, axis = 1))\n",
    "np.sum(arr, axis=(0, 1)) # axis = (0, 1)은 생략 가능"
   ]
  },
  {
   "cell_type": "code",
   "execution_count": 75,
   "metadata": {
    "id": "zZkKN5rNaqMd"
   },
   "outputs": [],
   "source": [
    "import numpy as np\n",
    "import time\n",
    "\n",
    "n = 1000\n",
    "arr = np.random.rand(n, n)"
   ]
  },
  {
   "cell_type": "code",
   "execution_count": 76,
   "metadata": {
    "colab": {
     "base_uri": "https://localhost:8080/"
    },
    "executionInfo": {
     "elapsed": 474,
     "status": "ok",
     "timestamp": 1723962703160,
     "user": {
      "displayName": "l l",
      "userId": "14050689748487604186"
     },
     "user_tz": -540
    },
    "id": "kqKwwU8eawH6",
    "outputId": "782c3bb4-f06c-473f-ea04-9ddae1666bc5"
   },
   "outputs": [
    {
     "name": "stdout",
     "output_type": "stream",
     "text": [
      "1000 x 1000 배열의 원소 합 500020.4230829533 \n",
      "계산 시간:  0.21470999717712402\n"
     ]
    }
   ],
   "source": [
    "sum_naive = 0\n",
    "start = time.time()\n",
    "for i in range(n):\n",
    "    for j in range(n):\n",
    "        sum_naive += arr[i,j]\n",
    "end = time.time()\n",
    "print(n, 'x', n, \"배열의 원소 합\", sum_naive, \"\\n계산 시간: \", end-start)"
   ]
  },
  {
   "cell_type": "code",
   "execution_count": 77,
   "metadata": {
    "colab": {
     "base_uri": "https://localhost:8080/"
    },
    "executionInfo": {
     "elapsed": 584,
     "status": "ok",
     "timestamp": 1723962711742,
     "user": {
      "displayName": "l l",
      "userId": "14050689748487604186"
     },
     "user_tz": -540
    },
    "id": "ifytixuNa3Wq",
    "outputId": "d7b4297c-7236-4a3f-8a25-fc2d8f4f8927"
   },
   "outputs": [
    {
     "name": "stdout",
     "output_type": "stream",
     "text": [
      "1000 x 1000 배열의 원소 합 500020.4230829493 \n",
      "계산 시간:  0.0013420581817626953\n"
     ]
    }
   ],
   "source": [
    "start = time.time()\n",
    "sum_reduction = np.sum(arr, axis = (0,1))\n",
    "end = time.time()\n",
    "print(n, 'x', n, \"배열의 원소 합\", sum_reduction,\"\\n계산 시간: \",end-start)"
   ]
  },
  {
   "cell_type": "markdown",
   "metadata": {
    "id": "e-5QJiKqcRAT"
   },
   "source": [
    "### 3.16 배열의 결합 concatenate, vstack, hstack\n"
   ]
  },
  {
   "cell_type": "code",
   "execution_count": 78,
   "metadata": {
    "colab": {
     "base_uri": "https://localhost:8080/"
    },
    "executionInfo": {
     "elapsed": 501,
     "status": "ok",
     "timestamp": 1723962796194,
     "user": {
      "displayName": "l l",
      "userId": "14050689748487604186"
     },
     "user_tz": -540
    },
    "id": "rSHiYIYScXRr",
    "outputId": "1a8be96f-8f23-4502-cb41-d3e81aeda8b0"
   },
   "outputs": [
    {
     "data": {
      "text/plain": [
       "array([[10, 11, 12, 13],\n",
       "       [14, 15, 16, 17]])"
      ]
     },
     "execution_count": 78,
     "metadata": {},
     "output_type": "execute_result"
    }
   ],
   "source": [
    "import numpy as np\n",
    "\n",
    "a = np.arange(10, 18).reshape(2,4)\n",
    "a       # (2, 4) 형상의 다차원 배열로 10에서 17까지의 원소를 가짐"
   ]
  },
  {
   "cell_type": "code",
   "execution_count": 79,
   "metadata": {
    "colab": {
     "base_uri": "https://localhost:8080/"
    },
    "executionInfo": {
     "elapsed": 568,
     "status": "ok",
     "timestamp": 1723962838815,
     "user": {
      "displayName": "l l",
      "userId": "14050689748487604186"
     },
     "user_tz": -540
    },
    "id": "4BSrPA62cOIn",
    "outputId": "2d941e5e-3c01-45e9-df5b-f40a03e9d746"
   },
   "outputs": [
    {
     "data": {
      "text/plain": [
       "array([[ 0,  1,  2,  3],\n",
       "       [ 4,  5,  6,  7],\n",
       "       [ 8,  9, 10, 11]])"
      ]
     },
     "execution_count": 79,
     "metadata": {},
     "output_type": "execute_result"
    }
   ],
   "source": [
    "b = np.arange(12).reshape(3,4)\n",
    "b  # (3, 4) 형상의 다차원 배열로 0에서 11까지의 원소를 가짐"
   ]
  },
  {
   "cell_type": "code",
   "execution_count": 80,
   "metadata": {
    "colab": {
     "base_uri": "https://localhost:8080/"
    },
    "executionInfo": {
     "elapsed": 642,
     "status": "ok",
     "timestamp": 1723962839948,
     "user": {
      "displayName": "l l",
      "userId": "14050689748487604186"
     },
     "user_tz": -540
    },
    "id": "26LW0xV6cfC-",
    "outputId": "e621a1b2-602d-4266-f2b4-caffcb26c9b1"
   },
   "outputs": [
    {
     "data": {
      "text/plain": [
       "array([[0, 1, 2, 3],\n",
       "       [4, 5, 6, 7]])"
      ]
     },
     "execution_count": 80,
     "metadata": {},
     "output_type": "execute_result"
    }
   ],
   "source": [
    "c = np.arange(8).reshape(2,4)\n",
    "c   # (2, 4) 형상의 다차원 배열로 0에서 7까지의 원소를 가짐"
   ]
  },
  {
   "cell_type": "code",
   "execution_count": 81,
   "metadata": {
    "colab": {
     "base_uri": "https://localhost:8080/"
    },
    "executionInfo": {
     "elapsed": 5,
     "status": "ok",
     "timestamp": 1723962840601,
     "user": {
      "displayName": "l l",
      "userId": "14050689748487604186"
     },
     "user_tz": -540
    },
    "id": "Df0hygnbciMT",
    "outputId": "60466feb-eb65-4600-8cf0-9c7ed068645a"
   },
   "outputs": [
    {
     "data": {
      "text/plain": [
       "[0, 1, 2, 3]"
      ]
     },
     "execution_count": 81,
     "metadata": {},
     "output_type": "execute_result"
    }
   ],
   "source": [
    "d = list(range(4))\n",
    "d   # d는 1차원 리스트로 0에서 3까지의 원소를 가짐"
   ]
  },
  {
   "cell_type": "code",
   "execution_count": 82,
   "metadata": {
    "colab": {
     "base_uri": "https://localhost:8080/"
    },
    "executionInfo": {
     "elapsed": 2,
     "status": "ok",
     "timestamp": 1723962843026,
     "user": {
      "displayName": "l l",
      "userId": "14050689748487604186"
     },
     "user_tz": -540
    },
    "id": "bIrzKiPUclpr",
    "outputId": "ebf9edab-f621-44f3-a4bd-1000336765f2"
   },
   "outputs": [
    {
     "data": {
      "text/plain": [
       "array([[10, 11, 12, 13],\n",
       "       [14, 15, 16, 17],\n",
       "       [ 0,  1,  2,  3],\n",
       "       [ 4,  5,  6,  7],\n",
       "       [ 8,  9, 10, 11]])"
      ]
     },
     "execution_count": 82,
     "metadata": {},
     "output_type": "execute_result"
    }
   ],
   "source": [
    "np.concatenate((a, b))   # a 배열의 마지막 원소 다음에 b 배열을 넣는다"
   ]
  },
  {
   "cell_type": "code",
   "execution_count": 83,
   "metadata": {
    "colab": {
     "base_uri": "https://localhost:8080/"
    },
    "executionInfo": {
     "elapsed": 515,
     "status": "ok",
     "timestamp": 1723962854211,
     "user": {
      "displayName": "l l",
      "userId": "14050689748487604186"
     },
     "user_tz": -540
    },
    "id": "1za0lUWIcqsz",
    "outputId": "7d309984-bd39-41fd-a821-f859503b5f45"
   },
   "outputs": [
    {
     "data": {
      "text/plain": [
       "array([[10, 11, 12, 13],\n",
       "       [14, 15, 16, 17],\n",
       "       [ 0,  1,  2,  3],\n",
       "       [ 4,  5,  6,  7],\n",
       "       [ 8,  9, 10, 11]])"
      ]
     },
     "execution_count": 83,
     "metadata": {},
     "output_type": "execute_result"
    }
   ],
   "source": [
    "np.vstack((a, b)) # a 배열과 b 배열을 수직 방향으로 결합"
   ]
  },
  {
   "cell_type": "code",
   "execution_count": 84,
   "metadata": {
    "colab": {
     "base_uri": "https://localhost:8080/"
    },
    "executionInfo": {
     "elapsed": 498,
     "status": "ok",
     "timestamp": 1723962868067,
     "user": {
      "displayName": "l l",
      "userId": "14050689748487604186"
     },
     "user_tz": -540
    },
    "id": "PmG0-zovcroX",
    "outputId": "fa6aa26a-4ce7-41fe-bc38-b7368bb343e2"
   },
   "outputs": [
    {
     "data": {
      "text/plain": [
       "array([[10, 11, 12, 13],\n",
       "       [14, 15, 16, 17],\n",
       "       [ 0,  1,  2,  3]])"
      ]
     },
     "execution_count": 84,
     "metadata": {},
     "output_type": "execute_result"
    }
   ],
   "source": [
    "np.vstack((a, d)) # a 배열과 d 리스트의 결합"
   ]
  },
  {
   "cell_type": "code",
   "execution_count": 85,
   "metadata": {
    "colab": {
     "base_uri": "https://localhost:8080/"
    },
    "executionInfo": {
     "elapsed": 478,
     "status": "ok",
     "timestamp": 1723962884539,
     "user": {
      "displayName": "l l",
      "userId": "14050689748487604186"
     },
     "user_tz": -540
    },
    "id": "tc3R2gdecwce",
    "outputId": "09101f77-567a-4270-b6ee-68f5cc115db2"
   },
   "outputs": [
    {
     "data": {
      "text/plain": [
       "array([[10, 11, 12, 13],\n",
       "       [14, 15, 16, 17],\n",
       "       [ 0,  1,  2,  3],\n",
       "       [ 4,  5,  6,  7],\n",
       "       [ 8,  9, 10, 11],\n",
       "       [ 0,  1,  2,  3]])"
      ]
     },
     "execution_count": 85,
     "metadata": {},
     "output_type": "execute_result"
    }
   ],
   "source": [
    "np.vstack((a, b, d)) # 다차원 배열 3개를 결합"
   ]
  },
  {
   "cell_type": "code",
   "execution_count": 86,
   "metadata": {
    "colab": {
     "base_uri": "https://localhost:8080/"
    },
    "executionInfo": {
     "elapsed": 483,
     "status": "ok",
     "timestamp": 1723962913485,
     "user": {
      "displayName": "l l",
      "userId": "14050689748487604186"
     },
     "user_tz": -540
    },
    "id": "Tef2OifDc0k8",
    "outputId": "755a5ef1-7745-4424-e871-b82b2e9a8030"
   },
   "outputs": [
    {
     "data": {
      "text/plain": [
       "array([[10, 11, 12, 13,  0,  1,  2,  3],\n",
       "       [14, 15, 16, 17,  4,  5,  6,  7]])"
      ]
     },
     "execution_count": 86,
     "metadata": {},
     "output_type": "execute_result"
    }
   ],
   "source": [
    "np.hstack((a, c))   # 다차원 배열 a, c를 수평으로 결합"
   ]
  },
  {
   "cell_type": "code",
   "execution_count": 87,
   "metadata": {
    "colab": {
     "base_uri": "https://localhost:8080/",
     "height": 301
    },
    "executionInfo": {
     "elapsed": 3,
     "status": "error",
     "timestamp": 1723962915475,
     "user": {
      "displayName": "l l",
      "userId": "14050689748487604186"
     },
     "user_tz": -540
    },
    "id": "ninm46SJc26s",
    "outputId": "a8ba2dd6-982c-4986-9abb-08d22104fc32"
   },
   "outputs": [
    {
     "ename": "ValueError",
     "evalue": "all the input array dimensions except for the concatenation axis must match exactly, but along dimension 0, the array at index 0 has size 2 and the array at index 1 has size 3",
     "output_type": "error",
     "traceback": [
      "\u001b[31m---------------------------------------------------------------------------\u001b[39m",
      "\u001b[31mValueError\u001b[39m                                Traceback (most recent call last)",
      "\u001b[36mCell\u001b[39m\u001b[36m \u001b[39m\u001b[32mIn[87]\u001b[39m\u001b[32m, line 2\u001b[39m\n\u001b[32m      1\u001b[39m \u001b[38;5;66;03m# a 배열은 형상이 (2, 4), b 배열은 (3, 4)로 수평 결합이 안됨\u001b[39;00m\n\u001b[32m----> \u001b[39m\u001b[32m2\u001b[39m \u001b[43mnp\u001b[49m\u001b[43m.\u001b[49m\u001b[43mhstack\u001b[49m\u001b[43m(\u001b[49m\u001b[43m(\u001b[49m\u001b[43ma\u001b[49m\u001b[43m,\u001b[49m\u001b[43m \u001b[49m\u001b[43mb\u001b[49m\u001b[43m)\u001b[49m\u001b[43m)\u001b[49m \u001b[38;5;66;03m# a 배열과 b 배열의 hstack 결합-오류\u001b[39;00m\n",
      "\u001b[36mFile \u001b[39m\u001b[32mc:\\Users\\User\\AppData\\Local\\Programs\\Python\\Python313\\Lib\\site-packages\\numpy\\_core\\shape_base.py:367\u001b[39m, in \u001b[36mhstack\u001b[39m\u001b[34m(tup, dtype, casting)\u001b[39m\n\u001b[32m    365\u001b[39m     \u001b[38;5;28;01mreturn\u001b[39;00m _nx.concatenate(arrs, \u001b[32m0\u001b[39m, dtype=dtype, casting=casting)\n\u001b[32m    366\u001b[39m \u001b[38;5;28;01melse\u001b[39;00m:\n\u001b[32m--> \u001b[39m\u001b[32m367\u001b[39m     \u001b[38;5;28;01mreturn\u001b[39;00m \u001b[43m_nx\u001b[49m\u001b[43m.\u001b[49m\u001b[43mconcatenate\u001b[49m\u001b[43m(\u001b[49m\u001b[43marrs\u001b[49m\u001b[43m,\u001b[49m\u001b[43m \u001b[49m\u001b[32;43m1\u001b[39;49m\u001b[43m,\u001b[49m\u001b[43m \u001b[49m\u001b[43mdtype\u001b[49m\u001b[43m=\u001b[49m\u001b[43mdtype\u001b[49m\u001b[43m,\u001b[49m\u001b[43m \u001b[49m\u001b[43mcasting\u001b[49m\u001b[43m=\u001b[49m\u001b[43mcasting\u001b[49m\u001b[43m)\u001b[49m\n",
      "\u001b[31mValueError\u001b[39m: all the input array dimensions except for the concatenation axis must match exactly, but along dimension 0, the array at index 0 has size 2 and the array at index 1 has size 3"
     ]
    }
   ],
   "source": [
    "# a 배열은 형상이 (2, 4), b 배열은 (3, 4)로 수평 결합이 안됨\n",
    "np.hstack((a, b)) # a 배열과 b 배열의 hstack 결합-오류"
   ]
  },
  {
   "cell_type": "markdown",
   "metadata": {
    "id": "b2NfmxoJc9fB"
   },
   "source": [
    "### 3.18 배열을 결합하는 r_, c_ 클래스와 column_stack() 함수"
   ]
  },
  {
   "cell_type": "code",
   "execution_count": null,
   "metadata": {
    "id": "PWW3wuxndAdK"
   },
   "outputs": [],
   "source": [
    "a = np.array([1, 2, 3])\n",
    "b = np.array([10, 20, 30])\n",
    "c = np.array([[1, 2, 3], [4, 5, 6]])\n",
    "d = np.array([[10, 20, 30], [40, 50, 60]])"
   ]
  },
  {
   "cell_type": "code",
   "execution_count": null,
   "metadata": {
    "colab": {
     "base_uri": "https://localhost:8080/"
    },
    "executionInfo": {
     "elapsed": 525,
     "status": "ok",
     "timestamp": 1723963089097,
     "user": {
      "displayName": "l l",
      "userId": "14050689748487604186"
     },
     "user_tz": -540
    },
    "id": "Ar3tW6JwdDaR",
    "outputId": "39c729b2-a63e-46a8-9a29-694b5f773bb9"
   },
   "outputs": [
    {
     "data": {
      "text/plain": [
       "array([ 1,  2,  3, 10, 20, 30])"
      ]
     },
     "execution_count": 69,
     "metadata": {},
     "output_type": "execute_result"
    }
   ],
   "source": [
    "np.r_[a, b]   # a, b 배열을 결합시킴 np.hstack([a, b])와 같다"
   ]
  },
  {
   "cell_type": "code",
   "execution_count": null,
   "metadata": {
    "colab": {
     "base_uri": "https://localhost:8080/"
    },
    "executionInfo": {
     "elapsed": 472,
     "status": "ok",
     "timestamp": 1723963119869,
     "user": {
      "displayName": "l l",
      "userId": "14050689748487604186"
     },
     "user_tz": -540
    },
    "id": "Sh0qPYG3Af3a",
    "outputId": "36405276-7c10-4df1-e2e2-d50be964abea"
   },
   "outputs": [
    {
     "data": {
      "text/plain": [
       "array([[ 1,  2,  3],\n",
       "       [10, 20, 30]])"
      ]
     },
     "execution_count": 70,
     "metadata": {},
     "output_type": "execute_result"
    }
   ],
   "source": [
    "np.r_[[a], [b]]"
   ]
  },
  {
   "cell_type": "code",
   "execution_count": null,
   "metadata": {
    "colab": {
     "base_uri": "https://localhost:8080/"
    },
    "executionInfo": {
     "elapsed": 556,
     "status": "ok",
     "timestamp": 1723963130005,
     "user": {
      "displayName": "l l",
      "userId": "14050689748487604186"
     },
     "user_tz": -540
    },
    "id": "tK1SOJSmAmgc",
    "outputId": "950d0187-1724-4788-997b-3c69b05d29a9"
   },
   "outputs": [
    {
     "data": {
      "text/plain": [
       "array([[ 1,  2,  3],\n",
       "       [10, 20, 30]])"
      ]
     },
     "execution_count": 71,
     "metadata": {},
     "output_type": "execute_result"
    }
   ],
   "source": [
    "np.vstack([a, b])"
   ]
  },
  {
   "cell_type": "code",
   "execution_count": null,
   "metadata": {
    "colab": {
     "base_uri": "https://localhost:8080/"
    },
    "executionInfo": {
     "elapsed": 520,
     "status": "ok",
     "timestamp": 1723963134839,
     "user": {
      "displayName": "l l",
      "userId": "14050689748487604186"
     },
     "user_tz": -540
    },
    "id": "huNxSoaEdGUI",
    "outputId": "91b98df5-6d43-40a8-e66c-be027999a1e7"
   },
   "outputs": [
    {
     "data": {
      "text/plain": [
       "array([ 1,  2,  3,  4,  5,  6, 10, 20, 30])"
      ]
     },
     "execution_count": 72,
     "metadata": {},
     "output_type": "execute_result"
    }
   ],
   "source": [
    "np.r_[a, 4, 5, 6, b] # 중간에 개별 원소 삽입도 가능하다"
   ]
  },
  {
   "cell_type": "code",
   "execution_count": null,
   "metadata": {
    "colab": {
     "base_uri": "https://localhost:8080/"
    },
    "executionInfo": {
     "elapsed": 2,
     "status": "ok",
     "timestamp": 1723963137567,
     "user": {
      "displayName": "l l",
      "userId": "14050689748487604186"
     },
     "user_tz": -540
    },
    "id": "F88FHx5HdI-_",
    "outputId": "8fb39a31-6ab3-4f1c-c178-7d3c919fff18"
   },
   "outputs": [
    {
     "data": {
      "text/plain": [
       "array([0, 0, 0, 5, 6])"
      ]
     },
     "execution_count": 73,
     "metadata": {},
     "output_type": "execute_result"
    }
   ],
   "source": [
    "np.r_[[0]*3, 5, 6]"
   ]
  },
  {
   "cell_type": "code",
   "execution_count": null,
   "metadata": {
    "colab": {
     "base_uri": "https://localhost:8080/"
    },
    "executionInfo": {
     "elapsed": 488,
     "status": "ok",
     "timestamp": 1723963140599,
     "user": {
      "displayName": "l l",
      "userId": "14050689748487604186"
     },
     "user_tz": -540
    },
    "id": "_TKqurNAdNUB",
    "outputId": "b8bd56b6-fa64-4e7d-fb83-bc7f69b6dee6"
   },
   "outputs": [
    {
     "data": {
      "text/plain": [
       "array([[ 1,  2,  3],\n",
       "       [ 4,  5,  6],\n",
       "       [10, 20, 30],\n",
       "       [40, 50, 60]])"
      ]
     },
     "execution_count": 74,
     "metadata": {},
     "output_type": "execute_result"
    }
   ],
   "source": [
    "np.r_[c, d]  # 2차원 배열을 axis=0 방향으로 결합한다"
   ]
  },
  {
   "cell_type": "code",
   "execution_count": null,
   "metadata": {
    "colab": {
     "base_uri": "https://localhost:8080/"
    },
    "executionInfo": {
     "elapsed": 3,
     "status": "ok",
     "timestamp": 1723963142697,
     "user": {
      "displayName": "l l",
      "userId": "14050689748487604186"
     },
     "user_tz": -540
    },
    "id": "ydBq5ONddP9q",
    "outputId": "c3b9a9d6-f268-456c-f921-edda16f55d0b"
   },
   "outputs": [
    {
     "data": {
      "text/plain": [
       "array([[ 1],\n",
       "       [ 2],\n",
       "       [ 3],\n",
       "       [10],\n",
       "       [20],\n",
       "       [30]])"
      ]
     },
     "execution_count": 75,
     "metadata": {},
     "output_type": "execute_result"
    }
   ],
   "source": [
    "# a, b를 2차원 배열로 만들어서 axis=0 방향으로 결합\n",
    "np.r_[a.reshape(-1,1), b.reshape(-1,1)]"
   ]
  },
  {
   "cell_type": "code",
   "execution_count": null,
   "metadata": {
    "colab": {
     "base_uri": "https://localhost:8080/"
    },
    "executionInfo": {
     "elapsed": 501,
     "status": "ok",
     "timestamp": 1723963273027,
     "user": {
      "displayName": "l l",
      "userId": "14050689748487604186"
     },
     "user_tz": -540
    },
    "id": "vktyXeyzdSzb",
    "outputId": "131fcfdc-43b1-4190-9fa2-48a0ddda57b7"
   },
   "outputs": [
    {
     "data": {
      "text/plain": [
       "array([[ 1, 10],\n",
       "       [ 2, 20],\n",
       "       [ 3, 30]])"
      ]
     },
     "execution_count": 76,
     "metadata": {},
     "output_type": "execute_result"
    }
   ],
   "source": [
    "np.concatenate((a.reshape(-1, 1), b.reshape(-1, 1)), axis=1)"
   ]
  },
  {
   "cell_type": "code",
   "execution_count": null,
   "metadata": {
    "colab": {
     "base_uri": "https://localhost:8080/"
    },
    "executionInfo": {
     "elapsed": 489,
     "status": "ok",
     "timestamp": 1723963277596,
     "user": {
      "displayName": "l l",
      "userId": "14050689748487604186"
     },
     "user_tz": -540
    },
    "id": "EMynbea5dWMg",
    "outputId": "5354da04-7fb9-4082-a8bc-77cdc75d9e52"
   },
   "outputs": [
    {
     "data": {
      "text/plain": [
       "array([[ 1, 10],\n",
       "       [ 2, 20],\n",
       "       [ 3, 30]])"
      ]
     },
     "execution_count": 77,
     "metadata": {},
     "output_type": "execute_result"
    }
   ],
   "source": [
    "np.c_[a, b]"
   ]
  },
  {
   "cell_type": "code",
   "execution_count": null,
   "metadata": {
    "colab": {
     "base_uri": "https://localhost:8080/"
    },
    "executionInfo": {
     "elapsed": 460,
     "status": "ok",
     "timestamp": 1723963285515,
     "user": {
      "displayName": "l l",
      "userId": "14050689748487604186"
     },
     "user_tz": -540
    },
    "id": "ix3gUtK0dXyH",
    "outputId": "674d29f3-0087-4391-e654-afc63091137f"
   },
   "outputs": [
    {
     "data": {
      "text/plain": [
       "array([[ 1, 10],\n",
       "       [ 2, 20],\n",
       "       [ 3, 30]])"
      ]
     },
     "execution_count": 78,
     "metadata": {},
     "output_type": "execute_result"
    }
   ],
   "source": [
    "np.column_stack([a, b])"
   ]
  },
  {
   "cell_type": "code",
   "execution_count": null,
   "metadata": {
    "colab": {
     "base_uri": "https://localhost:8080/"
    },
    "executionInfo": {
     "elapsed": 596,
     "status": "ok",
     "timestamp": 1723963290959,
     "user": {
      "displayName": "l l",
      "userId": "14050689748487604186"
     },
     "user_tz": -540
    },
    "id": "Ce_faVUodaoE",
    "outputId": "96ea3752-bc8e-4a60-82fb-ec3dcc05dd3e"
   },
   "outputs": [
    {
     "data": {
      "text/plain": [
       "array([[ 1,  4, 10, 40],\n",
       "       [ 2,  5, 20, 50],\n",
       "       [ 3,  6, 30, 60]])"
      ]
     },
     "execution_count": 79,
     "metadata": {},
     "output_type": "execute_result"
    }
   ],
   "source": [
    "# c와 d의 전치행렬을 결합시킨다\n",
    "np.concatenate((c.T, d.T), axis=1)"
   ]
  }
 ],
 "metadata": {
  "colab": {
   "provenance": [
    {
     "file_id": "18BJWuokqtAQwIaBAEEB7JnLyniRCLmsJ",
     "timestamp": 1724498886050
    }
   ]
  },
  "kernelspec": {
   "display_name": "Python 3",
   "name": "python3"
  },
  "language_info": {
   "codemirror_mode": {
    "name": "ipython",
    "version": 3
   },
   "file_extension": ".py",
   "mimetype": "text/x-python",
   "name": "python",
   "nbconvert_exporter": "python",
   "pygments_lexer": "ipython3",
   "version": "3.13.1"
  }
 },
 "nbformat": 4,
 "nbformat_minor": 0
}
