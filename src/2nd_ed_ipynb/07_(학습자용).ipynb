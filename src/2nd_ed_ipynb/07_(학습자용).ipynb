{
 "cells": [
  {
   "cell_type": "markdown",
   "metadata": {
    "id": "1Oz2EjgaJoYN"
   },
   "source": [
    "# **키친솔루션 KAMP 머신러닝 강의2 소스 코드1**\n",
    "## *7장 머신러닝 기초 : 사이킷런과 선형 회귀*\n",
    "---\n",
    "* 출판사 : 생능 출판사( http://www.booksr.co.kr/ )\n",
    "* 저서 : 으뜸 데이터 분석과 머신러닝 (개정판)\n",
    "* 저자 : 박동규, 강영민, 김병욱\n",
    "* 책의 소스코드 저장소 : https://github.com/dongupak/DataML\n",
    "* 안내 : 이 노트북은 책의 코드를 담고 있습니다.\n",
    "* 저작권 : 본 주피터 노트북 코드는 자유롭게 배포가능하지만 위의 출판사, 저서, 저자표기와 함께 배포해 주십시오.\n"
   ]
  },
  {
   "cell_type": "markdown",
   "metadata": {
    "id": "qRsUmtrbSoeD"
   },
   "source": [
    "### 7.1 경험을 통해서 학습하는 인간을 통해 지능을 정의해 보자\n",
    "\n",
    "### 7.2 머신러닝의 정의와 종류를 알아보자\n",
    "\n"
   ]
  },
  {
   "cell_type": "markdown",
   "metadata": {
    "id": "kzwswK5CS2mU"
   },
   "source": [
    "### 7.6 간단한 선형 회귀를 수행해 보자"
   ]
  },
  {
   "cell_type": "code",
   "execution_count": 1,
   "metadata": {
    "id": "_V4u5tWuvzoB"
   },
   "outputs": [],
   "source": [
    "\n",
    "import numpy as np\n",
    "from sklearn import linear_model  # scikit-learn 모듈을 가져온다\n",
    "\n",
    "regr = linear_model.LinearRegression()"
   ]
  },
  {
   "cell_type": "code",
   "execution_count": 2,
   "metadata": {
    "colab": {
     "base_uri": "https://localhost:8080/",
     "height": 75
    },
    "executionInfo": {
     "elapsed": 404,
     "status": "ok",
     "timestamp": 1724207209478,
     "user": {
      "displayName": "박동규",
      "userId": "12283933156391729074"
     },
     "user_tz": -540
    },
    "id": "QHlUqi-Hv5NS",
    "outputId": "df06c278-946d-4ba5-eef1-201c770b6c23"
   },
   "outputs": [
    {
     "data": {
      "text/html": [
       "<style>#sk-container-id-1 {\n",
       "  /* Definition of color scheme common for light and dark mode */\n",
       "  --sklearn-color-text: black;\n",
       "  --sklearn-color-line: gray;\n",
       "  /* Definition of color scheme for unfitted estimators */\n",
       "  --sklearn-color-unfitted-level-0: #fff5e6;\n",
       "  --sklearn-color-unfitted-level-1: #f6e4d2;\n",
       "  --sklearn-color-unfitted-level-2: #ffe0b3;\n",
       "  --sklearn-color-unfitted-level-3: chocolate;\n",
       "  /* Definition of color scheme for fitted estimators */\n",
       "  --sklearn-color-fitted-level-0: #f0f8ff;\n",
       "  --sklearn-color-fitted-level-1: #d4ebff;\n",
       "  --sklearn-color-fitted-level-2: #b3dbfd;\n",
       "  --sklearn-color-fitted-level-3: cornflowerblue;\n",
       "\n",
       "  /* Specific color for light theme */\n",
       "  --sklearn-color-text-on-default-background: var(--sg-text-color, var(--theme-code-foreground, var(--jp-content-font-color1, black)));\n",
       "  --sklearn-color-background: var(--sg-background-color, var(--theme-background, var(--jp-layout-color0, white)));\n",
       "  --sklearn-color-border-box: var(--sg-text-color, var(--theme-code-foreground, var(--jp-content-font-color1, black)));\n",
       "  --sklearn-color-icon: #696969;\n",
       "\n",
       "  @media (prefers-color-scheme: dark) {\n",
       "    /* Redefinition of color scheme for dark theme */\n",
       "    --sklearn-color-text-on-default-background: var(--sg-text-color, var(--theme-code-foreground, var(--jp-content-font-color1, white)));\n",
       "    --sklearn-color-background: var(--sg-background-color, var(--theme-background, var(--jp-layout-color0, #111)));\n",
       "    --sklearn-color-border-box: var(--sg-text-color, var(--theme-code-foreground, var(--jp-content-font-color1, white)));\n",
       "    --sklearn-color-icon: #878787;\n",
       "  }\n",
       "}\n",
       "\n",
       "#sk-container-id-1 {\n",
       "  color: var(--sklearn-color-text);\n",
       "}\n",
       "\n",
       "#sk-container-id-1 pre {\n",
       "  padding: 0;\n",
       "}\n",
       "\n",
       "#sk-container-id-1 input.sk-hidden--visually {\n",
       "  border: 0;\n",
       "  clip: rect(1px 1px 1px 1px);\n",
       "  clip: rect(1px, 1px, 1px, 1px);\n",
       "  height: 1px;\n",
       "  margin: -1px;\n",
       "  overflow: hidden;\n",
       "  padding: 0;\n",
       "  position: absolute;\n",
       "  width: 1px;\n",
       "}\n",
       "\n",
       "#sk-container-id-1 div.sk-dashed-wrapped {\n",
       "  border: 1px dashed var(--sklearn-color-line);\n",
       "  margin: 0 0.4em 0.5em 0.4em;\n",
       "  box-sizing: border-box;\n",
       "  padding-bottom: 0.4em;\n",
       "  background-color: var(--sklearn-color-background);\n",
       "}\n",
       "\n",
       "#sk-container-id-1 div.sk-container {\n",
       "  /* jupyter's `normalize.less` sets `[hidden] { display: none; }`\n",
       "     but bootstrap.min.css set `[hidden] { display: none !important; }`\n",
       "     so we also need the `!important` here to be able to override the\n",
       "     default hidden behavior on the sphinx rendered scikit-learn.org.\n",
       "     See: https://github.com/scikit-learn/scikit-learn/issues/21755 */\n",
       "  display: inline-block !important;\n",
       "  position: relative;\n",
       "}\n",
       "\n",
       "#sk-container-id-1 div.sk-text-repr-fallback {\n",
       "  display: none;\n",
       "}\n",
       "\n",
       "div.sk-parallel-item,\n",
       "div.sk-serial,\n",
       "div.sk-item {\n",
       "  /* draw centered vertical line to link estimators */\n",
       "  background-image: linear-gradient(var(--sklearn-color-text-on-default-background), var(--sklearn-color-text-on-default-background));\n",
       "  background-size: 2px 100%;\n",
       "  background-repeat: no-repeat;\n",
       "  background-position: center center;\n",
       "}\n",
       "\n",
       "/* Parallel-specific style estimator block */\n",
       "\n",
       "#sk-container-id-1 div.sk-parallel-item::after {\n",
       "  content: \"\";\n",
       "  width: 100%;\n",
       "  border-bottom: 2px solid var(--sklearn-color-text-on-default-background);\n",
       "  flex-grow: 1;\n",
       "}\n",
       "\n",
       "#sk-container-id-1 div.sk-parallel {\n",
       "  display: flex;\n",
       "  align-items: stretch;\n",
       "  justify-content: center;\n",
       "  background-color: var(--sklearn-color-background);\n",
       "  position: relative;\n",
       "}\n",
       "\n",
       "#sk-container-id-1 div.sk-parallel-item {\n",
       "  display: flex;\n",
       "  flex-direction: column;\n",
       "}\n",
       "\n",
       "#sk-container-id-1 div.sk-parallel-item:first-child::after {\n",
       "  align-self: flex-end;\n",
       "  width: 50%;\n",
       "}\n",
       "\n",
       "#sk-container-id-1 div.sk-parallel-item:last-child::after {\n",
       "  align-self: flex-start;\n",
       "  width: 50%;\n",
       "}\n",
       "\n",
       "#sk-container-id-1 div.sk-parallel-item:only-child::after {\n",
       "  width: 0;\n",
       "}\n",
       "\n",
       "/* Serial-specific style estimator block */\n",
       "\n",
       "#sk-container-id-1 div.sk-serial {\n",
       "  display: flex;\n",
       "  flex-direction: column;\n",
       "  align-items: center;\n",
       "  background-color: var(--sklearn-color-background);\n",
       "  padding-right: 1em;\n",
       "  padding-left: 1em;\n",
       "}\n",
       "\n",
       "\n",
       "/* Toggleable style: style used for estimator/Pipeline/ColumnTransformer box that is\n",
       "clickable and can be expanded/collapsed.\n",
       "- Pipeline and ColumnTransformer use this feature and define the default style\n",
       "- Estimators will overwrite some part of the style using the `sk-estimator` class\n",
       "*/\n",
       "\n",
       "/* Pipeline and ColumnTransformer style (default) */\n",
       "\n",
       "#sk-container-id-1 div.sk-toggleable {\n",
       "  /* Default theme specific background. It is overwritten whether we have a\n",
       "  specific estimator or a Pipeline/ColumnTransformer */\n",
       "  background-color: var(--sklearn-color-background);\n",
       "}\n",
       "\n",
       "/* Toggleable label */\n",
       "#sk-container-id-1 label.sk-toggleable__label {\n",
       "  cursor: pointer;\n",
       "  display: block;\n",
       "  width: 100%;\n",
       "  margin-bottom: 0;\n",
       "  padding: 0.5em;\n",
       "  box-sizing: border-box;\n",
       "  text-align: center;\n",
       "}\n",
       "\n",
       "#sk-container-id-1 label.sk-toggleable__label-arrow:before {\n",
       "  /* Arrow on the left of the label */\n",
       "  content: \"▸\";\n",
       "  float: left;\n",
       "  margin-right: 0.25em;\n",
       "  color: var(--sklearn-color-icon);\n",
       "}\n",
       "\n",
       "#sk-container-id-1 label.sk-toggleable__label-arrow:hover:before {\n",
       "  color: var(--sklearn-color-text);\n",
       "}\n",
       "\n",
       "/* Toggleable content - dropdown */\n",
       "\n",
       "#sk-container-id-1 div.sk-toggleable__content {\n",
       "  max-height: 0;\n",
       "  max-width: 0;\n",
       "  overflow: hidden;\n",
       "  text-align: left;\n",
       "  /* unfitted */\n",
       "  background-color: var(--sklearn-color-unfitted-level-0);\n",
       "}\n",
       "\n",
       "#sk-container-id-1 div.sk-toggleable__content.fitted {\n",
       "  /* fitted */\n",
       "  background-color: var(--sklearn-color-fitted-level-0);\n",
       "}\n",
       "\n",
       "#sk-container-id-1 div.sk-toggleable__content pre {\n",
       "  margin: 0.2em;\n",
       "  border-radius: 0.25em;\n",
       "  color: var(--sklearn-color-text);\n",
       "  /* unfitted */\n",
       "  background-color: var(--sklearn-color-unfitted-level-0);\n",
       "}\n",
       "\n",
       "#sk-container-id-1 div.sk-toggleable__content.fitted pre {\n",
       "  /* unfitted */\n",
       "  background-color: var(--sklearn-color-fitted-level-0);\n",
       "}\n",
       "\n",
       "#sk-container-id-1 input.sk-toggleable__control:checked~div.sk-toggleable__content {\n",
       "  /* Expand drop-down */\n",
       "  max-height: 200px;\n",
       "  max-width: 100%;\n",
       "  overflow: auto;\n",
       "}\n",
       "\n",
       "#sk-container-id-1 input.sk-toggleable__control:checked~label.sk-toggleable__label-arrow:before {\n",
       "  content: \"▾\";\n",
       "}\n",
       "\n",
       "/* Pipeline/ColumnTransformer-specific style */\n",
       "\n",
       "#sk-container-id-1 div.sk-label input.sk-toggleable__control:checked~label.sk-toggleable__label {\n",
       "  color: var(--sklearn-color-text);\n",
       "  background-color: var(--sklearn-color-unfitted-level-2);\n",
       "}\n",
       "\n",
       "#sk-container-id-1 div.sk-label.fitted input.sk-toggleable__control:checked~label.sk-toggleable__label {\n",
       "  background-color: var(--sklearn-color-fitted-level-2);\n",
       "}\n",
       "\n",
       "/* Estimator-specific style */\n",
       "\n",
       "/* Colorize estimator box */\n",
       "#sk-container-id-1 div.sk-estimator input.sk-toggleable__control:checked~label.sk-toggleable__label {\n",
       "  /* unfitted */\n",
       "  background-color: var(--sklearn-color-unfitted-level-2);\n",
       "}\n",
       "\n",
       "#sk-container-id-1 div.sk-estimator.fitted input.sk-toggleable__control:checked~label.sk-toggleable__label {\n",
       "  /* fitted */\n",
       "  background-color: var(--sklearn-color-fitted-level-2);\n",
       "}\n",
       "\n",
       "#sk-container-id-1 div.sk-label label.sk-toggleable__label,\n",
       "#sk-container-id-1 div.sk-label label {\n",
       "  /* The background is the default theme color */\n",
       "  color: var(--sklearn-color-text-on-default-background);\n",
       "}\n",
       "\n",
       "/* On hover, darken the color of the background */\n",
       "#sk-container-id-1 div.sk-label:hover label.sk-toggleable__label {\n",
       "  color: var(--sklearn-color-text);\n",
       "  background-color: var(--sklearn-color-unfitted-level-2);\n",
       "}\n",
       "\n",
       "/* Label box, darken color on hover, fitted */\n",
       "#sk-container-id-1 div.sk-label.fitted:hover label.sk-toggleable__label.fitted {\n",
       "  color: var(--sklearn-color-text);\n",
       "  background-color: var(--sklearn-color-fitted-level-2);\n",
       "}\n",
       "\n",
       "/* Estimator label */\n",
       "\n",
       "#sk-container-id-1 div.sk-label label {\n",
       "  font-family: monospace;\n",
       "  font-weight: bold;\n",
       "  display: inline-block;\n",
       "  line-height: 1.2em;\n",
       "}\n",
       "\n",
       "#sk-container-id-1 div.sk-label-container {\n",
       "  text-align: center;\n",
       "}\n",
       "\n",
       "/* Estimator-specific */\n",
       "#sk-container-id-1 div.sk-estimator {\n",
       "  font-family: monospace;\n",
       "  border: 1px dotted var(--sklearn-color-border-box);\n",
       "  border-radius: 0.25em;\n",
       "  box-sizing: border-box;\n",
       "  margin-bottom: 0.5em;\n",
       "  /* unfitted */\n",
       "  background-color: var(--sklearn-color-unfitted-level-0);\n",
       "}\n",
       "\n",
       "#sk-container-id-1 div.sk-estimator.fitted {\n",
       "  /* fitted */\n",
       "  background-color: var(--sklearn-color-fitted-level-0);\n",
       "}\n",
       "\n",
       "/* on hover */\n",
       "#sk-container-id-1 div.sk-estimator:hover {\n",
       "  /* unfitted */\n",
       "  background-color: var(--sklearn-color-unfitted-level-2);\n",
       "}\n",
       "\n",
       "#sk-container-id-1 div.sk-estimator.fitted:hover {\n",
       "  /* fitted */\n",
       "  background-color: var(--sklearn-color-fitted-level-2);\n",
       "}\n",
       "\n",
       "/* Specification for estimator info (e.g. \"i\" and \"?\") */\n",
       "\n",
       "/* Common style for \"i\" and \"?\" */\n",
       "\n",
       ".sk-estimator-doc-link,\n",
       "a:link.sk-estimator-doc-link,\n",
       "a:visited.sk-estimator-doc-link {\n",
       "  float: right;\n",
       "  font-size: smaller;\n",
       "  line-height: 1em;\n",
       "  font-family: monospace;\n",
       "  background-color: var(--sklearn-color-background);\n",
       "  border-radius: 1em;\n",
       "  height: 1em;\n",
       "  width: 1em;\n",
       "  text-decoration: none !important;\n",
       "  margin-left: 1ex;\n",
       "  /* unfitted */\n",
       "  border: var(--sklearn-color-unfitted-level-1) 1pt solid;\n",
       "  color: var(--sklearn-color-unfitted-level-1);\n",
       "}\n",
       "\n",
       ".sk-estimator-doc-link.fitted,\n",
       "a:link.sk-estimator-doc-link.fitted,\n",
       "a:visited.sk-estimator-doc-link.fitted {\n",
       "  /* fitted */\n",
       "  border: var(--sklearn-color-fitted-level-1) 1pt solid;\n",
       "  color: var(--sklearn-color-fitted-level-1);\n",
       "}\n",
       "\n",
       "/* On hover */\n",
       "div.sk-estimator:hover .sk-estimator-doc-link:hover,\n",
       ".sk-estimator-doc-link:hover,\n",
       "div.sk-label-container:hover .sk-estimator-doc-link:hover,\n",
       ".sk-estimator-doc-link:hover {\n",
       "  /* unfitted */\n",
       "  background-color: var(--sklearn-color-unfitted-level-3);\n",
       "  color: var(--sklearn-color-background);\n",
       "  text-decoration: none;\n",
       "}\n",
       "\n",
       "div.sk-estimator.fitted:hover .sk-estimator-doc-link.fitted:hover,\n",
       ".sk-estimator-doc-link.fitted:hover,\n",
       "div.sk-label-container:hover .sk-estimator-doc-link.fitted:hover,\n",
       ".sk-estimator-doc-link.fitted:hover {\n",
       "  /* fitted */\n",
       "  background-color: var(--sklearn-color-fitted-level-3);\n",
       "  color: var(--sklearn-color-background);\n",
       "  text-decoration: none;\n",
       "}\n",
       "\n",
       "/* Span, style for the box shown on hovering the info icon */\n",
       ".sk-estimator-doc-link span {\n",
       "  display: none;\n",
       "  z-index: 9999;\n",
       "  position: relative;\n",
       "  font-weight: normal;\n",
       "  right: .2ex;\n",
       "  padding: .5ex;\n",
       "  margin: .5ex;\n",
       "  width: min-content;\n",
       "  min-width: 20ex;\n",
       "  max-width: 50ex;\n",
       "  color: var(--sklearn-color-text);\n",
       "  box-shadow: 2pt 2pt 4pt #999;\n",
       "  /* unfitted */\n",
       "  background: var(--sklearn-color-unfitted-level-0);\n",
       "  border: .5pt solid var(--sklearn-color-unfitted-level-3);\n",
       "}\n",
       "\n",
       ".sk-estimator-doc-link.fitted span {\n",
       "  /* fitted */\n",
       "  background: var(--sklearn-color-fitted-level-0);\n",
       "  border: var(--sklearn-color-fitted-level-3);\n",
       "}\n",
       "\n",
       ".sk-estimator-doc-link:hover span {\n",
       "  display: block;\n",
       "}\n",
       "\n",
       "/* \"?\"-specific style due to the `<a>` HTML tag */\n",
       "\n",
       "#sk-container-id-1 a.estimator_doc_link {\n",
       "  float: right;\n",
       "  font-size: 1rem;\n",
       "  line-height: 1em;\n",
       "  font-family: monospace;\n",
       "  background-color: var(--sklearn-color-background);\n",
       "  border-radius: 1rem;\n",
       "  height: 1rem;\n",
       "  width: 1rem;\n",
       "  text-decoration: none;\n",
       "  /* unfitted */\n",
       "  color: var(--sklearn-color-unfitted-level-1);\n",
       "  border: var(--sklearn-color-unfitted-level-1) 1pt solid;\n",
       "}\n",
       "\n",
       "#sk-container-id-1 a.estimator_doc_link.fitted {\n",
       "  /* fitted */\n",
       "  border: var(--sklearn-color-fitted-level-1) 1pt solid;\n",
       "  color: var(--sklearn-color-fitted-level-1);\n",
       "}\n",
       "\n",
       "/* On hover */\n",
       "#sk-container-id-1 a.estimator_doc_link:hover {\n",
       "  /* unfitted */\n",
       "  background-color: var(--sklearn-color-unfitted-level-3);\n",
       "  color: var(--sklearn-color-background);\n",
       "  text-decoration: none;\n",
       "}\n",
       "\n",
       "#sk-container-id-1 a.estimator_doc_link.fitted:hover {\n",
       "  /* fitted */\n",
       "  background-color: var(--sklearn-color-fitted-level-3);\n",
       "}\n",
       "</style><div id=\"sk-container-id-1\" class=\"sk-top-container\"><div class=\"sk-text-repr-fallback\"><pre>LinearRegression()</pre><b>In a Jupyter environment, please rerun this cell to show the HTML representation or trust the notebook. <br />On GitHub, the HTML representation is unable to render, please try loading this page with nbviewer.org.</b></div><div class=\"sk-container\" hidden><div class=\"sk-item\"><div class=\"sk-estimator fitted sk-toggleable\"><input class=\"sk-toggleable__control sk-hidden--visually\" id=\"sk-estimator-id-1\" type=\"checkbox\" checked><label for=\"sk-estimator-id-1\" class=\"sk-toggleable__label fitted sk-toggleable__label-arrow fitted\">&nbsp;&nbsp;LinearRegression<a class=\"sk-estimator-doc-link fitted\" rel=\"noreferrer\" target=\"_blank\" href=\"https://scikit-learn.org/1.5/modules/generated/sklearn.linear_model.LinearRegression.html\">?<span>Documentation for LinearRegression</span></a><span class=\"sk-estimator-doc-link fitted\">i<span>Fitted</span></span></label><div class=\"sk-toggleable__content fitted\"><pre>LinearRegression()</pre></div> </div></div></div></div>"
      ],
      "text/plain": [
       "LinearRegression()"
      ]
     },
     "execution_count": 2,
     "metadata": {},
     "output_type": "execute_result"
    }
   ],
   "source": [
    "X = [[163], [179], [166], [169], [170]]\n",
    "y = [54, 63, 57, 56, 58]\n",
    "regr.fit(X, y)"
   ]
  },
  {
   "cell_type": "code",
   "execution_count": 3,
   "metadata": {
    "colab": {
     "base_uri": "https://localhost:8080/"
    },
    "executionInfo": {
     "elapsed": 2,
     "status": "ok",
     "timestamp": 1724207212157,
     "user": {
      "displayName": "박동규",
      "userId": "12283933156391729074"
     },
     "user_tz": -540
    },
    "id": "hBkuCKPBwKBX",
    "outputId": "62c999fc-ec2a-43b3-a09a-b90f97c143fd"
   },
   "outputs": [
    {
     "name": "stdout",
     "output_type": "stream",
     "text": [
      "y = [0.54]* X + -33.17\n",
      "데이터와 선형회귀 직선의 관계점수: 92.2%\n"
     ]
    }
   ],
   "source": [
    "coef = regr.coef_            # 직선의 기울기\n",
    "intercept = regr.intercept_  # 직선의 절편\n",
    "score = regr.score(X, y)     # 학습된 직선이 데이터를 얼마나 잘 따르나\n",
    "\n",
    "print(f\"y = {coef.round(2)}* X + {intercept:.2f}\")\n",
    "print(f\"데이터와 선형회귀 직선의 관계점수: {score:.1%}\")"
   ]
  },
  {
   "cell_type": "markdown",
   "metadata": {
    "id": "5FkND8LdTLX7"
   },
   "source": [
    "### 7.7 데이터를 시각화하고 차원을 증가시키자"
   ]
  },
  {
   "cell_type": "code",
   "execution_count": 4,
   "metadata": {
    "colab": {
     "base_uri": "https://localhost:8080/",
     "height": 448
    },
    "executionInfo": {
     "elapsed": 1135,
     "status": "ok",
     "timestamp": 1724207265640,
     "user": {
      "displayName": "박동규",
      "userId": "12283933156391729074"
     },
     "user_tz": -540
    },
    "id": "yrpadWv_wilO",
    "outputId": "e444f62f-ff9e-4a96-d455-0f132b6d0342"
   },
   "outputs": [
    {
     "data": {
      "text/plain": [
       "[<matplotlib.lines.Line2D at 0x21e1c6cef30>]"
      ]
     },
     "execution_count": 4,
     "metadata": {},
     "output_type": "execute_result"
    },
    {
     "data": {
      "image/png": "[encoded data removed]",
      "text/plain": [
       "<Figure size 640x480 with 1 Axes>"
      ]
     },
     "metadata": {},
     "output_type": "display_data"
    }
   ],
   "source": [
    "import matplotlib.pyplot as plt\n",
    "# 학습 데이터와 y 값을 산포도로 그린다.\n",
    "plt.scatter(X, y, color='blue', marker='D')\n",
    "# 학습 데이터를 입력으로 하여 예측값을 계산한다.\n",
    "y_pred = regr.predict(X)\n",
    "plt.plot(X, y_pred, 'r:') # 예측값을 이어주는 점선을 그려보자"
   ]
  },
  {
   "cell_type": "code",
   "execution_count": 5,
   "metadata": {
    "colab": {
     "base_uri": "https://localhost:8080/"
    },
    "executionInfo": {
     "elapsed": 387,
     "status": "ok",
     "timestamp": 1724207296401,
     "user": {
      "displayName": "박동규",
      "userId": "12283933156391729074"
     },
     "user_tz": -540
    },
    "id": "GQbg1zQqwRhb",
    "outputId": "9dcc1979-8e2b-4cd2-ec72-80382bc64f0d"
   },
   "outputs": [
    {
     "name": "stdout",
     "output_type": "stream",
     "text": [
      "동윤이의 키가 [[167]]cm 이므로 몸무게는 [56.3]kg으로 추정됨\n",
      "데이터와 선형 회귀 직선의 r square 점수: 0.922\n"
     ]
    }
   ],
   "source": [
    "unseen = [[167]]\n",
    "result = regr.predict(unseen)\n",
    "print(f'동윤이의 키가 {unseen}cm 이므로 몸무게는 {result.round(1)}kg으로 추정됨')\n",
    "\n",
    "from sklearn.metrics import r2_score\n",
    "print(f\"데이터와 선형 회귀 직선의 r square 점수: {r2_score(y, y_pred):.3}\")"
   ]
  },
  {
   "cell_type": "code",
   "execution_count": 6,
   "metadata": {
    "colab": {
     "base_uri": "https://localhost:8080/"
    },
    "executionInfo": {
     "elapsed": 375,
     "status": "ok",
     "timestamp": 1724207302886,
     "user": {
      "displayName": "박동규",
      "userId": "12283933156391729074"
     },
     "user_tz": -540
    },
    "id": "_YH3eYvTt8Oj",
    "outputId": "96b423be-dc7f-4676-c574-ecd0f72712c6"
   },
   "outputs": [
    {
     "name": "stdout",
     "output_type": "stream",
     "text": [
      "계수 : [ 0.74803397 -7.23030041]\n",
      "절편 : -61.227783894306384\n",
      "점수 : 0.8425933302504424\n",
      "동윤이와 은지의 추정 몸무게 : [63.69388959 56.46358918]\n"
     ]
    }
   ],
   "source": [
    "from sklearn import linear_model\n",
    "\n",
    "regr = linear_model.LinearRegression()\n",
    "# 남자는 0, 여자는 1\n",
    "X = [[168, 0], [166, 0], [173, 0], [165, 0], [177, 0], [163, 0], \\\n",
    "     [178, 0], [172, 0], [163, 1], [162, 1], [171, 1], [162, 1], \\\n",
    "     [164, 1], [162, 1], [158, 1], [173, 1], ]    # 입력데이터를 2차원으로 만들어야 함\n",
    "# y 값은 1차원 데이터\n",
    "y = [65, 61, 68, 63, 68, 61, 76, 67, 55, 51, 59, 53, 61, 56, 44, 57]\n",
    "regr.fit(X, y)         # 학습\n",
    "print('계수 :', regr.coef_ )\n",
    "print('절편 :', regr.intercept_)\n",
    "print('점수 :', regr.score(X, y))\n",
    "print('동윤이와 은지의 추정 몸무게 :', regr.predict([[167, 0], [167, 1]]))"
   ]
  },
  {
   "cell_type": "markdown",
   "metadata": {
    "id": "t2fhiO3fCqo5"
   },
   "source": [
    "### 7.8 회귀모델의 오차 함수와 결정계수"
   ]
  },
  {
   "cell_type": "code",
   "execution_count": 7,
   "metadata": {
    "colab": {
     "base_uri": "https://localhost:8080/",
     "height": 449
    },
    "executionInfo": {
     "elapsed": 453,
     "status": "ok",
     "timestamp": 1724059461859,
     "user": {
      "displayName": "l l",
      "userId": "14050689748487604186"
     },
     "user_tz": -540
    },
    "id": "iL1LoSLBB6K8",
    "outputId": "ada8f651-413d-459a-ccd5-49b41b6eac55"
   },
   "outputs": [
    {
     "data": {
      "text/plain": [
       "[<matplotlib.lines.Line2D at 0x21e1c8d3a70>]"
      ]
     },
     "execution_count": 7,
     "metadata": {},
     "output_type": "execute_result"
    },
    {
     "data": {
      "image/png": "[encoded data removed]",
      "text/plain": [
       "<Figure size 640x480 with 1 Axes>"
      ]
     },
     "metadata": {},
     "output_type": "display_data"
    }
   ],
   "source": [
    "import matplotlib.pyplot as plt\n",
    "\n",
    "x = np.array([1, 2, 3, 4, 5]) #\n",
    "y = np.array([1.2, 2.4, 2.5, 4.6, 5.4]) # y 데이터\n",
    "\n",
    "plt.scatter(x, y, color='blue', marker='D')\n",
    "# y = 0.7x 추정 그래프를 빨간색 실선으로 그림\n",
    "plt.plot(x, 0.7 * x, 'r-')"
   ]
  },
  {
   "cell_type": "code",
   "execution_count": 8,
   "metadata": {
    "colab": {
     "base_uri": "https://localhost:8080/",
     "height": 449
    },
    "executionInfo": {
     "elapsed": 438,
     "status": "ok",
     "timestamp": 1724059469291,
     "user": {
      "displayName": "l l",
      "userId": "14050689748487604186"
     },
     "user_tz": -540
    },
    "id": "_QWMaZF7MInw",
    "outputId": "68d77535-ff1c-4fb9-fedc-1229ad4d4468"
   },
   "outputs": [
    {
     "data": {
      "text/plain": [
       "[<matplotlib.lines.Line2D at 0x21e1c70e600>]"
      ]
     },
     "execution_count": 8,
     "metadata": {},
     "output_type": "execute_result"
    },
    {
     "data": {
      "image/png": "[encoded data removed]",
      "text/plain": [
       "<Figure size 640x480 with 1 Axes>"
      ]
     },
     "metadata": {},
     "output_type": "display_data"
    }
   ],
   "source": [
    "plt.scatter(x, y, color='blue', marker='D')\n",
    "# y = 0.9x 추정 그래프를 빨간색 실선으로 그림\n",
    "plt.plot(x, 0.9 * x, 'r-')"
   ]
  },
  {
   "cell_type": "code",
   "execution_count": 9,
   "metadata": {
    "colab": {
     "base_uri": "https://localhost:8080/",
     "height": 449
    },
    "executionInfo": {
     "elapsed": 435,
     "status": "ok",
     "timestamp": 1724059508651,
     "user": {
      "displayName": "l l",
      "userId": "14050689748487604186"
     },
     "user_tz": -540
    },
    "id": "DSrvLslmMeYH",
    "outputId": "3ff0e046-6bf0-409c-ef40-f54962a3342d"
   },
   "outputs": [
    {
     "data": {
      "text/plain": [
       "[<matplotlib.lines.Line2D at 0x21e1c773770>]"
      ]
     },
     "execution_count": 9,
     "metadata": {},
     "output_type": "execute_result"
    },
    {
     "data": {
      "image/png": "[encoded data removed]",
      "text/plain": [
       "<Figure size 640x480 with 1 Axes>"
      ]
     },
     "metadata": {},
     "output_type": "display_data"
    }
   ],
   "source": [
    "plt.scatter(x, y, color='blue', marker='D')\n",
    "# y = 1.05x 추정 그래프를 빨간색 실선으로 그림\n",
    "plt.plot(x, 1.05 * x, 'r-')"
   ]
  },
  {
   "cell_type": "markdown",
   "metadata": {
    "id": "SecCW1mdC85q"
   },
   "source": [
    "### 7.9 오차 함수의 구현과 파라미터 공간의 최적값"
   ]
  },
  {
   "cell_type": "code",
   "execution_count": 10,
   "metadata": {
    "colab": {
     "base_uri": "https://localhost:8080/"
    },
    "executionInfo": {
     "elapsed": 383,
     "status": "ok",
     "timestamp": 1724207364416,
     "user": {
      "displayName": "박동규",
      "userId": "12283933156391729074"
     },
     "user_tz": -540
    },
    "id": "dCUPKjQsu2Ky",
    "outputId": "3db66e06-e34e-406c-fe15-c159b7bf4eb7"
   },
   "outputs": [
    {
     "name": "stdout",
     "output_type": "stream",
     "text": [
      "평균 제곱 오차 =  0.19399999999999995\n"
     ]
    }
   ],
   "source": [
    "import numpy as np\n",
    "\n",
    "y = np.array([1.2, 2.4, 2.5, 4.6, 5.4])\n",
    "y_hat = np.array([1, 2, 3, 4, 5])\n",
    "diff = (y_hat - y) ** 2     # y_hat과 y의 차이값의 제곱\n",
    "e_mse = diff.sum() / len(y)\n",
    "print('평균 제곱 오차 = ', e_mse)"
   ]
  },
  {
   "cell_type": "code",
   "execution_count": 11,
   "metadata": {
    "colab": {
     "base_uri": "https://localhost:8080/"
    },
    "executionInfo": {
     "elapsed": 376,
     "status": "ok",
     "timestamp": 1724207368641,
     "user": {
      "displayName": "박동규",
      "userId": "12283933156391729074"
     },
     "user_tz": -540
    },
    "id": "kpusmh-Ssitc",
    "outputId": "2d8028e1-4af5-4ecd-81ca-94e09d15b113"
   },
   "outputs": [
    {
     "name": "stdout",
     "output_type": "stream",
     "text": [
      "평균 제곱 오차 =  0.19399999999999995\n"
     ]
    }
   ],
   "source": [
    "from sklearn.metrics import mean_squared_error\n",
    "\n",
    "print('평균 제곱 오차 = ', mean_squared_error(y_hat, y))"
   ]
  },
  {
   "cell_type": "markdown",
   "metadata": {
    "id": "Ur5YpXa-UhrX"
   },
   "source": [
    "### 7.11 경사 하강법과 학습의 원리"
   ]
  },
  {
   "cell_type": "code",
   "execution_count": 12,
   "metadata": {
    "colab": {
     "base_uri": "https://localhost:8080/"
    },
    "executionInfo": {
     "elapsed": 383,
     "status": "ok",
     "timestamp": 1724060101014,
     "user": {
      "displayName": "l l",
      "userId": "14050689748487604186"
     },
     "user_tz": -540
    },
    "id": "jgNEq5bgWRkS",
    "outputId": "b29d1889-2efa-431d-f992-873d9cf9fe01"
   },
   "outputs": [
    {
     "name": "stdout",
     "output_type": "stream",
     "text": [
      "w =  0.63 b = -1.65\n"
     ]
    }
   ],
   "source": [
    "import numpy as np\n",
    "import matplotlib.pyplot as plt\n",
    "\n",
    "X = np.array([1, 4.5, 9, 10, 13])\n",
    "y = np.array([0, 0.2, 2.5, 5.4, 7.3])\n",
    "\n",
    "w, b = 0, 0    # w, b 초기값을 0으로 두자\n",
    "learning_rate, epoch = 0.005, 1000 # 학습률과 학습횟수(에폭)\n",
    "n = len(X)  # 입력데이터 개수\n",
    "\n",
    "for i in range(epoch):   # 학습 루프\n",
    "    y_pred = w*X + b     # 현재 w, b를 이용한 작업 T\n",
    "    error = y_pred - y   # 성능척도 P\n",
    "    w = w - learning_rate * (error * X).sum() # 경험 E로 개선\n",
    "    b = b - learning_rate * error.sum()\n",
    "\n",
    "print('w = ', w.round(2), 'b =', b.round(2))"
   ]
  },
  {
   "cell_type": "markdown",
   "metadata": {
    "id": "-Q0Ygct7VPps"
   },
   "source": [
    "### 7.12 경사 하강법과 학습률"
   ]
  },
  {
   "cell_type": "code",
   "execution_count": 13,
   "metadata": {
    "colab": {
     "base_uri": "https://localhost:8080/"
    },
    "executionInfo": {
     "elapsed": 383,
     "status": "ok",
     "timestamp": 1724060258353,
     "user": {
      "displayName": "l l",
      "userId": "14050689748487604186"
     },
     "user_tz": -540
    },
    "id": "lUBXWQCmVTcQ",
    "outputId": "ed243f5b-0861-43ba-818e-63122ce19fea"
   },
   "outputs": [
    {
     "name": "stdout",
     "output_type": "stream",
     "text": [
      "w = [0.63], b = -1.65\n"
     ]
    }
   ],
   "source": [
    "from sklearn import linear_model\n",
    "import numpy as np\n",
    "\n",
    "X = np.array([1, 4.5, 9, 10, 13])\n",
    "y = np.array([0, 0.2, 2.5, 5.4, 7.3])\n",
    "regr = linear_model.LinearRegression()\n",
    "X = X[:, np.newaxis] # 1차원 (5,)에서 2차원인 (5,1) 형태로 바꾼다\n",
    "regr.fit(X, y) # X, y 데이터를 사용하여 학습시키기\n",
    "\n",
    "print(f'w = {regr.coef_.round(2)}, b = {regr.intercept_.round(2)}')"
   ]
  },
  {
   "cell_type": "code",
   "execution_count": 14,
   "metadata": {
    "colab": {
     "base_uri": "https://localhost:8080/",
     "height": 449
    },
    "executionInfo": {
     "elapsed": 445,
     "status": "ok",
     "timestamp": 1724060262466,
     "user": {
      "displayName": "l l",
      "userId": "14050689748487604186"
     },
     "user_tz": -540
    },
    "id": "m2kVd0PjMQ-7",
    "outputId": "9be41eed-c94a-4616-b241-2b8261b467e2"
   },
   "outputs": [
    {
     "data": {
      "text/plain": [
       "[<matplotlib.lines.Line2D at 0x21e1d93cd10>]"
      ]
     },
     "execution_count": 14,
     "metadata": {},
     "output_type": "execute_result"
    },
    {
     "data": {
      "image/png": "[encoded data removed]",
      "text/plain": [
       "<Figure size 640x480 with 1 Axes>"
      ]
     },
     "metadata": {},
     "output_type": "display_data"
    }
   ],
   "source": [
    "import matplotlib.pyplot as plt\n",
    "import numpy as np\n",
    "\n",
    "X = np.array([1, 4.5, 9, 10, 13])\n",
    "y = np.array([0, 0.2, 2.5, 5.4, 7.3])\n",
    "plt.scatter(X, y, color='blue', marker='D')\n",
    "# 계산으로 구한 w, b를 이용하여 선형 회귀 직선을 그리자\n",
    "y_pred = 0.63 * X - 1.65\n",
    "plt.plot(X, y_pred, 'r:')"
   ]
  },
  {
   "cell_type": "code",
   "execution_count": 15,
   "metadata": {
    "colab": {
     "base_uri": "https://localhost:8080/"
    },
    "executionInfo": {
     "elapsed": 374,
     "status": "ok",
     "timestamp": 1724060273793,
     "user": {
      "displayName": "l l",
      "userId": "14050689748487604186"
     },
     "user_tz": -540
    },
    "id": "2QiiFp2EV1ao",
    "outputId": "4934443e-9aa8-4355-c05f-83213ff386e9"
   },
   "outputs": [
    {
     "name": "stdout",
     "output_type": "stream",
     "text": [
      "w = 0.45, b = 0.03\n"
     ]
    }
   ],
   "source": [
    "# 학습률이 너무 작은 경우\n",
    "import numpy as np\n",
    "import matplotlib.pyplot as plt\n",
    "\n",
    "X = np.array([1, 4.5, 9, 10, 13])\n",
    "y = np.array([0, 0.2, 2.5, 5.4, 7.3])\n",
    "\n",
    "w, b = 0, 0    # w, b 초기값을 0으로 두자\n",
    "learning_rate, epoch = 0.00001, 1000 # 학습률과 학습횟수(에폭)\n",
    "n = len(X)  # 입력데이터 개수\n",
    "\n",
    "for i in range(epoch):   # 학습 루프\n",
    "    y_pred = w*X + b     # 현재 w, b를 이용한 작업 T\n",
    "    error = y_pred - y   # 성능척도 P\n",
    "    w = w - learning_rate * (error * X).sum() # 경험 E로 개선\n",
    "    b = b - learning_rate * error.sum()\n",
    "\n",
    "print(f'w = {w.round(2)}, b = {b.round(2)}')"
   ]
  },
  {
   "cell_type": "code",
   "execution_count": 16,
   "metadata": {
    "colab": {
     "base_uri": "https://localhost:8080/"
    },
    "executionInfo": {
     "elapsed": 389,
     "status": "ok",
     "timestamp": 1724060672910,
     "user": {
      "displayName": "l l",
      "userId": "14050689748487604186"
     },
     "user_tz": -540
    },
    "id": "UXBPKxWCV_sQ",
    "outputId": "61d09c6e-27c3-4060-b614-623c5a4b6d11"
   },
   "outputs": [
    {
     "name": "stdout",
     "output_type": "stream",
     "text": [
      "w = nan, b = nan\n"
     ]
    },
    {
     "name": "stderr",
     "output_type": "stream",
     "text": [
      "C:\\Users\\user\\anaconda3\\Lib\\site-packages\\numpy\\core\\_methods.py:49: RuntimeWarning: overflow encountered in reduce\n",
      "  return umr_sum(a, axis, dtype, out, keepdims, initial, where)\n",
      "C:\\Users\\user\\AppData\\Local\\Temp\\ipykernel_20604\\4098245018.py:15: RuntimeWarning: invalid value encountered in scalar subtract\n",
      "  w = w - learning_rate * (error * X).sum() # 경험 E로 개선\n"
     ]
    }
   ],
   "source": [
    "# 학습률이 너무 큰 경우\n",
    "import numpy as np\n",
    "import matplotlib.pyplot as plt\n",
    "\n",
    "X = np.array([1, 4.5, 9, 10, 13])\n",
    "y = np.array([0, 0.2, 2.5, 5.4, 7.3])\n",
    "\n",
    "w, b = 0, 0    # w, b 초기값을 0으로 두자\n",
    "learning_rate, epoch = 1.0, 1000 # 학습률과 학습횟수(에폭)\n",
    "n = len(X)  # 입력데이터 개수\n",
    "\n",
    "for i in range(epoch):   # 학습 루프\n",
    "    y_pred = w*X + b     # 현재 w, b를 이용한 작업 T\n",
    "    error = y_pred - y   # 성능척도 P\n",
    "    w = w - learning_rate * (error * X).sum() # 경험 E로 개선\n",
    "    b = b - learning_rate * error.sum()\n",
    "\n",
    "print(f'w = {w.round(2)}, b = {b.round(2)}')"
   ]
  }
 ],
 "metadata": {
  "colab": {
   "provenance": [
    {
     "file_id": "1Pdb50EKYqW6QzMHjwIeqJamCBu4QN4br",
     "timestamp": 1724499222692
    }
   ]
  },
  "kernelspec": {
   "display_name": "Python 3 (ipykernel)",
   "language": "python",
   "name": "python3"
  },
  "language_info": {
   "codemirror_mode": {
    "name": "ipython",
    "version": 3
   },
   "file_extension": ".py",
   "mimetype": "text/x-python",
   "name": "python",
   "nbconvert_exporter": "python",
   "pygments_lexer": "ipython3",
   "version": "3.12.3"
  }
 },
 "nbformat": 4,
 "nbformat_minor": 4
}
